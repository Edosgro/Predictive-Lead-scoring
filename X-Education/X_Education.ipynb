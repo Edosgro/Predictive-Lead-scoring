{
  "nbformat": 4,
  "nbformat_minor": 0,
  "metadata": {
    "colab": {
      "provenance": [],
      "toc_visible": true,
      "mount_file_id": "11GtOJblVND2ooJoh4shfmeJCwxrldLIe",
      "authorship_tag": "ABX9TyM8uzPjFDxJ8ujPQWJWvk/M"
    },
    "kernelspec": {
      "name": "python3",
      "display_name": "Python 3"
    },
    "language_info": {
      "name": "python"
    }
  },
  "cells": [
    {
      "cell_type": "markdown",
      "source": [
        "#Table of content \n",
        "\n",
        "\n",
        "1. Problem statement \n",
        "2. Exploratory Data Analysis\n"
      ],
      "metadata": {
        "id": "cWdjX3cJyBxU"
      }
    },
    {
      "cell_type": "markdown",
      "source": [
        "# Problem statement \n"
      ],
      "metadata": {
        "id": "wBPBl0vpTwYI"
      }
    },
    {
      "cell_type": "markdown",
      "source": [
        "An education company named X education sells online courses to industry professionals. On any given day, many professionals  who are interested in the courses land land on their website and browse for courses.\n",
        "\n",
        "The company markets its courses on several websites and search engines like Google. Once these people land on the website, they might browse the courses or fill up a form for the course or watch some videos. When these people fill up a form providing their email address or phone number, they are classified to be a lead. Moreover, the company also gets leads through past referrals. Once these leads are acquired, employees from the sales teams start making calls, writing emails, etc. Through this process, some of the leads get converted while most do not. The typical lead conversion rate at X Education is around 30%.\n",
        "\n",
        "\n",
        "Now, although X Education gets a lot of leads, its lead conversion rate is very poor. For example, if, say, they acquire 100 leads in a day, only about 30 of them are converted. To make this process more efficient, the company wishes to identify the most potential leads, also known as ‘Hot Leads’. If they successfully identify this set of leads, the lead conversion rate should go up as the sales team will now be focusing more on communicating with the potential leads rather than making calls to everyone. A typical lead conversion process can be represented using the following funnel:\n",
        "\n",
        "\n",
        "Lead Conversion Process - Demonstrated as a funnel\n",
        "As you can see, there are a lot of leads generated in the initial stage (top) but only a few of them come out as paying customers from the bottom. In the middle stage, you need to nurture the potential leads well (i.e. educating the leads about the product, constantly communicating etc. ) in order to get a higher lead conversion.\n",
        "\n",
        " \n",
        "\n",
        "X Education has appointed you to help them select the most promising leads, i.e. the leads that are most likely to convert into paying customers. The company requires you to build a model wherein you need to assign a lead score to each of the leads such that the customers with higher lead score have a higher conversion chance and the customers with lower lead score have a lower conversion chance. The CEO, in particular, has given a ballpark of the target lead conversion rate to be around 80%.\n",
        "\n",
        "\n",
        "\n"
      ],
      "metadata": {
        "id": "8IAyW2jkVC8i"
      }
    },
    {
      "cell_type": "markdown",
      "source": [
        "#Exploratory Data Analysis"
      ],
      "metadata": {
        "id": "756jC5U7yi1S"
      }
    },
    {
      "cell_type": "markdown",
      "source": [
        "## Libraries"
      ],
      "metadata": {
        "id": "VuL-qtrWUW5D"
      }
    },
    {
      "cell_type": "markdown",
      "source": [
        "First of all, we import all the necessary libraries to perform the necessary steps."
      ],
      "metadata": {
        "id": "GeH7fgO3or2t"
      }
    },
    {
      "cell_type": "code",
      "source": [
        "#import libraries \n",
        "\n",
        "import numpy as np\n",
        "import pandas as pd\n",
        "import matplotlib.pyplot as plt\n",
        "import seaborn as sns\n",
        "import warnings\n",
        "from sklearn.impute import SimpleImputer, KNNImputer\n",
        "from sklearn.feature_selection import RFE\n",
        "import statsmodels.api as sm\n",
        "from statsmodels.compat import lzip\n",
        "import scipy.stats as stats\n",
        "from scipy.stats import norm\n",
        "from statsmodels.stats.outliers_influence import variance_inflation_factor\n",
        "\n",
        "%matplotlib inline\n",
        "\n",
        "\n"
      ],
      "metadata": {
        "id": "Or4TGHqKoqOH"
      },
      "execution_count": 263,
      "outputs": []
    },
    {
      "cell_type": "markdown",
      "source": [
        "## Dataset"
      ],
      "metadata": {
        "id": "Fz2_17pzrBej"
      }
    },
    {
      "cell_type": "markdown",
      "source": [
        "After mounting your google drive, use pandas to read the csv file and check the first rows of the dataset."
      ],
      "metadata": {
        "id": "iBz9Mj3Hsy7Z"
      }
    },
    {
      "cell_type": "code",
      "source": [
        "lead_data_df = pd.read_csv('/content/drive/MyDrive/X-Education/Lead_Scoring.csv')\n",
        "lead_data_df.head()\n"
      ],
      "metadata": {
        "colab": {
          "base_uri": "https://localhost:8080/",
          "height": 525
        },
        "id": "EVwG_fWXrMd_",
        "outputId": "06b907ff-ad7b-4ea2-d2bd-f9e20f5161a0"
      },
      "execution_count": 264,
      "outputs": [
        {
          "output_type": "execute_result",
          "data": {
            "text/plain": [
              "                            Prospect ID  Lead Number              Lead Origin  \\\n",
              "0  7927b2df-8bba-4d29-b9a2-b6e0beafe620  660737       API                       \n",
              "1  2a272436-5132-4136-86fa-dcc88c88f482  660728       API                       \n",
              "2  8cc8c611-a219-4f35-ad23-fdfd2656bd8a  660727       Landing Page Submission   \n",
              "3  0cc2df48-7cf4-4e39-9de9-19797f9b38cc  660719       Landing Page Submission   \n",
              "4  3256f628-e534-4826-9d63-4a8b88782852  660681       Landing Page Submission   \n",
              "\n",
              "      Lead Source Do Not Email Do Not Call  Converted  TotalVisits  \\\n",
              "0  Olark Chat      No           No          0          0.0           \n",
              "1  Organic Search  No           No          0          5.0           \n",
              "2  Direct Traffic  No           No          1          2.0           \n",
              "3  Direct Traffic  No           No          0          1.0           \n",
              "4  Google          No           No          1          2.0           \n",
              "\n",
              "   Total Time Spent on Website  Page Views Per Visit  ...  \\\n",
              "0  0                            0.0                   ...   \n",
              "1  674                          2.5                   ...   \n",
              "2  1532                         2.0                   ...   \n",
              "3  305                          1.0                   ...   \n",
              "4  1428                         1.0                   ...   \n",
              "\n",
              "  Get updates on DM Content    Lead Profile    City  \\\n",
              "0  No                        Select          Select   \n",
              "1  No                        Select          Select   \n",
              "2  No                        Potential Lead  Mumbai   \n",
              "3  No                        Select          Mumbai   \n",
              "4  No                        Select          Mumbai   \n",
              "\n",
              "  Asymmetrique Activity Index Asymmetrique Profile Index  \\\n",
              "0  02.Medium                   02.Medium                   \n",
              "1  02.Medium                   02.Medium                   \n",
              "2  02.Medium                   01.High                     \n",
              "3  02.Medium                   01.High                     \n",
              "4  02.Medium                   01.High                     \n",
              "\n",
              "  Asymmetrique Activity Score Asymmetrique Profile Score  \\\n",
              "0  15.0                        15.0                        \n",
              "1  15.0                        15.0                        \n",
              "2  14.0                        20.0                        \n",
              "3  13.0                        17.0                        \n",
              "4  15.0                        18.0                        \n",
              "\n",
              "  I agree to pay the amount through cheque  \\\n",
              "0  No                                        \n",
              "1  No                                        \n",
              "2  No                                        \n",
              "3  No                                        \n",
              "4  No                                        \n",
              "\n",
              "  A free copy of Mastering The Interview Last Notable Activity  \n",
              "0  No                                     Modified              \n",
              "1  No                                     Email Opened          \n",
              "2  Yes                                    Email Opened          \n",
              "3  No                                     Modified              \n",
              "4  No                                     Modified              \n",
              "\n",
              "[5 rows x 37 columns]"
            ],
            "text/html": [
              "\n",
              "  <div id=\"df-1f6d9ce7-5897-426b-8c2e-3e537ee78950\">\n",
              "    <div class=\"colab-df-container\">\n",
              "      <div>\n",
              "<style scoped>\n",
              "    .dataframe tbody tr th:only-of-type {\n",
              "        vertical-align: middle;\n",
              "    }\n",
              "\n",
              "    .dataframe tbody tr th {\n",
              "        vertical-align: top;\n",
              "    }\n",
              "\n",
              "    .dataframe thead th {\n",
              "        text-align: right;\n",
              "    }\n",
              "</style>\n",
              "<table border=\"1\" class=\"dataframe\">\n",
              "  <thead>\n",
              "    <tr style=\"text-align: right;\">\n",
              "      <th></th>\n",
              "      <th>Prospect ID</th>\n",
              "      <th>Lead Number</th>\n",
              "      <th>Lead Origin</th>\n",
              "      <th>Lead Source</th>\n",
              "      <th>Do Not Email</th>\n",
              "      <th>Do Not Call</th>\n",
              "      <th>Converted</th>\n",
              "      <th>TotalVisits</th>\n",
              "      <th>Total Time Spent on Website</th>\n",
              "      <th>Page Views Per Visit</th>\n",
              "      <th>...</th>\n",
              "      <th>Get updates on DM Content</th>\n",
              "      <th>Lead Profile</th>\n",
              "      <th>City</th>\n",
              "      <th>Asymmetrique Activity Index</th>\n",
              "      <th>Asymmetrique Profile Index</th>\n",
              "      <th>Asymmetrique Activity Score</th>\n",
              "      <th>Asymmetrique Profile Score</th>\n",
              "      <th>I agree to pay the amount through cheque</th>\n",
              "      <th>A free copy of Mastering The Interview</th>\n",
              "      <th>Last Notable Activity</th>\n",
              "    </tr>\n",
              "  </thead>\n",
              "  <tbody>\n",
              "    <tr>\n",
              "      <th>0</th>\n",
              "      <td>7927b2df-8bba-4d29-b9a2-b6e0beafe620</td>\n",
              "      <td>660737</td>\n",
              "      <td>API</td>\n",
              "      <td>Olark Chat</td>\n",
              "      <td>No</td>\n",
              "      <td>No</td>\n",
              "      <td>0</td>\n",
              "      <td>0.0</td>\n",
              "      <td>0</td>\n",
              "      <td>0.0</td>\n",
              "      <td>...</td>\n",
              "      <td>No</td>\n",
              "      <td>Select</td>\n",
              "      <td>Select</td>\n",
              "      <td>02.Medium</td>\n",
              "      <td>02.Medium</td>\n",
              "      <td>15.0</td>\n",
              "      <td>15.0</td>\n",
              "      <td>No</td>\n",
              "      <td>No</td>\n",
              "      <td>Modified</td>\n",
              "    </tr>\n",
              "    <tr>\n",
              "      <th>1</th>\n",
              "      <td>2a272436-5132-4136-86fa-dcc88c88f482</td>\n",
              "      <td>660728</td>\n",
              "      <td>API</td>\n",
              "      <td>Organic Search</td>\n",
              "      <td>No</td>\n",
              "      <td>No</td>\n",
              "      <td>0</td>\n",
              "      <td>5.0</td>\n",
              "      <td>674</td>\n",
              "      <td>2.5</td>\n",
              "      <td>...</td>\n",
              "      <td>No</td>\n",
              "      <td>Select</td>\n",
              "      <td>Select</td>\n",
              "      <td>02.Medium</td>\n",
              "      <td>02.Medium</td>\n",
              "      <td>15.0</td>\n",
              "      <td>15.0</td>\n",
              "      <td>No</td>\n",
              "      <td>No</td>\n",
              "      <td>Email Opened</td>\n",
              "    </tr>\n",
              "    <tr>\n",
              "      <th>2</th>\n",
              "      <td>8cc8c611-a219-4f35-ad23-fdfd2656bd8a</td>\n",
              "      <td>660727</td>\n",
              "      <td>Landing Page Submission</td>\n",
              "      <td>Direct Traffic</td>\n",
              "      <td>No</td>\n",
              "      <td>No</td>\n",
              "      <td>1</td>\n",
              "      <td>2.0</td>\n",
              "      <td>1532</td>\n",
              "      <td>2.0</td>\n",
              "      <td>...</td>\n",
              "      <td>No</td>\n",
              "      <td>Potential Lead</td>\n",
              "      <td>Mumbai</td>\n",
              "      <td>02.Medium</td>\n",
              "      <td>01.High</td>\n",
              "      <td>14.0</td>\n",
              "      <td>20.0</td>\n",
              "      <td>No</td>\n",
              "      <td>Yes</td>\n",
              "      <td>Email Opened</td>\n",
              "    </tr>\n",
              "    <tr>\n",
              "      <th>3</th>\n",
              "      <td>0cc2df48-7cf4-4e39-9de9-19797f9b38cc</td>\n",
              "      <td>660719</td>\n",
              "      <td>Landing Page Submission</td>\n",
              "      <td>Direct Traffic</td>\n",
              "      <td>No</td>\n",
              "      <td>No</td>\n",
              "      <td>0</td>\n",
              "      <td>1.0</td>\n",
              "      <td>305</td>\n",
              "      <td>1.0</td>\n",
              "      <td>...</td>\n",
              "      <td>No</td>\n",
              "      <td>Select</td>\n",
              "      <td>Mumbai</td>\n",
              "      <td>02.Medium</td>\n",
              "      <td>01.High</td>\n",
              "      <td>13.0</td>\n",
              "      <td>17.0</td>\n",
              "      <td>No</td>\n",
              "      <td>No</td>\n",
              "      <td>Modified</td>\n",
              "    </tr>\n",
              "    <tr>\n",
              "      <th>4</th>\n",
              "      <td>3256f628-e534-4826-9d63-4a8b88782852</td>\n",
              "      <td>660681</td>\n",
              "      <td>Landing Page Submission</td>\n",
              "      <td>Google</td>\n",
              "      <td>No</td>\n",
              "      <td>No</td>\n",
              "      <td>1</td>\n",
              "      <td>2.0</td>\n",
              "      <td>1428</td>\n",
              "      <td>1.0</td>\n",
              "      <td>...</td>\n",
              "      <td>No</td>\n",
              "      <td>Select</td>\n",
              "      <td>Mumbai</td>\n",
              "      <td>02.Medium</td>\n",
              "      <td>01.High</td>\n",
              "      <td>15.0</td>\n",
              "      <td>18.0</td>\n",
              "      <td>No</td>\n",
              "      <td>No</td>\n",
              "      <td>Modified</td>\n",
              "    </tr>\n",
              "  </tbody>\n",
              "</table>\n",
              "<p>5 rows × 37 columns</p>\n",
              "</div>\n",
              "      <button class=\"colab-df-convert\" onclick=\"convertToInteractive('df-1f6d9ce7-5897-426b-8c2e-3e537ee78950')\"\n",
              "              title=\"Convert this dataframe to an interactive table.\"\n",
              "              style=\"display:none;\">\n",
              "        \n",
              "  <svg xmlns=\"http://www.w3.org/2000/svg\" height=\"24px\"viewBox=\"0 0 24 24\"\n",
              "       width=\"24px\">\n",
              "    <path d=\"M0 0h24v24H0V0z\" fill=\"none\"/>\n",
              "    <path d=\"M18.56 5.44l.94 2.06.94-2.06 2.06-.94-2.06-.94-.94-2.06-.94 2.06-2.06.94zm-11 1L8.5 8.5l.94-2.06 2.06-.94-2.06-.94L8.5 2.5l-.94 2.06-2.06.94zm10 10l.94 2.06.94-2.06 2.06-.94-2.06-.94-.94-2.06-.94 2.06-2.06.94z\"/><path d=\"M17.41 7.96l-1.37-1.37c-.4-.4-.92-.59-1.43-.59-.52 0-1.04.2-1.43.59L10.3 9.45l-7.72 7.72c-.78.78-.78 2.05 0 2.83L4 21.41c.39.39.9.59 1.41.59.51 0 1.02-.2 1.41-.59l7.78-7.78 2.81-2.81c.8-.78.8-2.07 0-2.86zM5.41 20L4 18.59l7.72-7.72 1.47 1.35L5.41 20z\"/>\n",
              "  </svg>\n",
              "      </button>\n",
              "      \n",
              "  <style>\n",
              "    .colab-df-container {\n",
              "      display:flex;\n",
              "      flex-wrap:wrap;\n",
              "      gap: 12px;\n",
              "    }\n",
              "\n",
              "    .colab-df-convert {\n",
              "      background-color: #E8F0FE;\n",
              "      border: none;\n",
              "      border-radius: 50%;\n",
              "      cursor: pointer;\n",
              "      display: none;\n",
              "      fill: #1967D2;\n",
              "      height: 32px;\n",
              "      padding: 0 0 0 0;\n",
              "      width: 32px;\n",
              "    }\n",
              "\n",
              "    .colab-df-convert:hover {\n",
              "      background-color: #E2EBFA;\n",
              "      box-shadow: 0px 1px 2px rgba(60, 64, 67, 0.3), 0px 1px 3px 1px rgba(60, 64, 67, 0.15);\n",
              "      fill: #174EA6;\n",
              "    }\n",
              "\n",
              "    [theme=dark] .colab-df-convert {\n",
              "      background-color: #3B4455;\n",
              "      fill: #D2E3FC;\n",
              "    }\n",
              "\n",
              "    [theme=dark] .colab-df-convert:hover {\n",
              "      background-color: #434B5C;\n",
              "      box-shadow: 0px 1px 3px 1px rgba(0, 0, 0, 0.15);\n",
              "      filter: drop-shadow(0px 1px 2px rgba(0, 0, 0, 0.3));\n",
              "      fill: #FFFFFF;\n",
              "    }\n",
              "  </style>\n",
              "\n",
              "      <script>\n",
              "        const buttonEl =\n",
              "          document.querySelector('#df-1f6d9ce7-5897-426b-8c2e-3e537ee78950 button.colab-df-convert');\n",
              "        buttonEl.style.display =\n",
              "          google.colab.kernel.accessAllowed ? 'block' : 'none';\n",
              "\n",
              "        async function convertToInteractive(key) {\n",
              "          const element = document.querySelector('#df-1f6d9ce7-5897-426b-8c2e-3e537ee78950');\n",
              "          const dataTable =\n",
              "            await google.colab.kernel.invokeFunction('convertToInteractive',\n",
              "                                                     [key], {});\n",
              "          if (!dataTable) return;\n",
              "\n",
              "          const docLinkHtml = 'Like what you see? Visit the ' +\n",
              "            '<a target=\"_blank\" href=https://colab.research.google.com/notebooks/data_table.ipynb>data table notebook</a>'\n",
              "            + ' to learn more about interactive tables.';\n",
              "          element.innerHTML = '';\n",
              "          dataTable['output_type'] = 'display_data';\n",
              "          await google.colab.output.renderOutput(dataTable, element);\n",
              "          const docLink = document.createElement('div');\n",
              "          docLink.innerHTML = docLinkHtml;\n",
              "          element.appendChild(docLink);\n",
              "        }\n",
              "      </script>\n",
              "    </div>\n",
              "  </div>\n",
              "  "
            ]
          },
          "metadata": {},
          "execution_count": 264
        }
      ]
    },
    {
      "cell_type": "markdown",
      "source": [
        "Visualize all the info related to the columns."
      ],
      "metadata": {
        "id": "bSMbR2AIvPme"
      }
    },
    {
      "cell_type": "code",
      "source": [
        "lead_data_df.info()"
      ],
      "metadata": {
        "colab": {
          "base_uri": "https://localhost:8080/"
        },
        "id": "q6i5dWFYvJ8z",
        "outputId": "2c907bd6-d243-4533-8f8f-e70b964311c9"
      },
      "execution_count": 265,
      "outputs": [
        {
          "output_type": "stream",
          "name": "stdout",
          "text": [
            "<class 'pandas.core.frame.DataFrame'>\n",
            "RangeIndex: 9240 entries, 0 to 9239\n",
            "Data columns (total 37 columns):\n",
            " #   Column                                         Non-Null Count  Dtype  \n",
            "---  ------                                         --------------  -----  \n",
            " 0   Prospect ID                                    9240 non-null   object \n",
            " 1   Lead Number                                    9240 non-null   int64  \n",
            " 2   Lead Origin                                    9240 non-null   object \n",
            " 3   Lead Source                                    9204 non-null   object \n",
            " 4   Do Not Email                                   9240 non-null   object \n",
            " 5   Do Not Call                                    9240 non-null   object \n",
            " 6   Converted                                      9240 non-null   int64  \n",
            " 7   TotalVisits                                    9103 non-null   float64\n",
            " 8   Total Time Spent on Website                    9240 non-null   int64  \n",
            " 9   Page Views Per Visit                           9103 non-null   float64\n",
            " 10  Last Activity                                  9137 non-null   object \n",
            " 11  Country                                        6779 non-null   object \n",
            " 12  Specialization                                 7802 non-null   object \n",
            " 13  How did you hear about X Education             7033 non-null   object \n",
            " 14  What is your current occupation                6550 non-null   object \n",
            " 15  What matters most to you in choosing a course  6531 non-null   object \n",
            " 16  Search                                         9240 non-null   object \n",
            " 17  Magazine                                       9240 non-null   object \n",
            " 18  Newspaper Article                              9240 non-null   object \n",
            " 19  X Education Forums                             9240 non-null   object \n",
            " 20  Newspaper                                      9240 non-null   object \n",
            " 21  Digital Advertisement                          9240 non-null   object \n",
            " 22  Through Recommendations                        9240 non-null   object \n",
            " 23  Receive More Updates About Our Courses         9240 non-null   object \n",
            " 24  Tags                                           5887 non-null   object \n",
            " 25  Lead Quality                                   4473 non-null   object \n",
            " 26  Update me on Supply Chain Content              9240 non-null   object \n",
            " 27  Get updates on DM Content                      9240 non-null   object \n",
            " 28  Lead Profile                                   6531 non-null   object \n",
            " 29  City                                           7820 non-null   object \n",
            " 30  Asymmetrique Activity Index                    5022 non-null   object \n",
            " 31  Asymmetrique Profile Index                     5022 non-null   object \n",
            " 32  Asymmetrique Activity Score                    5022 non-null   float64\n",
            " 33  Asymmetrique Profile Score                     5022 non-null   float64\n",
            " 34  I agree to pay the amount through cheque       9240 non-null   object \n",
            " 35  A free copy of Mastering The Interview         9240 non-null   object \n",
            " 36  Last Notable Activity                          9240 non-null   object \n",
            "dtypes: float64(4), int64(3), object(30)\n",
            "memory usage: 2.6+ MB\n"
          ]
        }
      ]
    },
    {
      "cell_type": "markdown",
      "source": [
        "##Data Dictionary"
      ],
      "metadata": {
        "id": "Q0oUeSrDvofx"
      }
    },
    {
      "cell_type": "code",
      "source": [
        "dictionary =pd.read_excel(\"/content/drive/MyDrive/X-Education/Leads Data Dictionary.xlsx\")\n",
        "dictionary.head()"
      ],
      "metadata": {
        "colab": {
          "base_uri": "https://localhost:8080/",
          "height": 206
        },
        "id": "SCfHOLSIvij8",
        "outputId": "7d64012b-c007-428e-f831-36c2a8622b70"
      },
      "execution_count": 266,
      "outputs": [
        {
          "output_type": "execute_result",
          "data": {
            "text/plain": [
              "   Unnamed: 0   Unnamed: 1  \\\n",
              "0 NaN          NaN           \n",
              "1 NaN          Variables     \n",
              "2 NaN          Prospect ID   \n",
              "3 NaN          Lead Number   \n",
              "4 NaN          Lead Origin   \n",
              "\n",
              "                                                                                                               Unnamed: 2  \n",
              "0  NaN                                                                                                                     \n",
              "1  Description                                                                                                             \n",
              "2  A unique ID with which the customer is identified.                                                                      \n",
              "3  A lead number assigned to each lead procured.                                                                           \n",
              "4  The origin identifier with which the customer was identified to be a lead. Includes API, Landing Page Submission, etc.  "
            ],
            "text/html": [
              "\n",
              "  <div id=\"df-4ec10797-4017-4aee-b84c-970694682b49\">\n",
              "    <div class=\"colab-df-container\">\n",
              "      <div>\n",
              "<style scoped>\n",
              "    .dataframe tbody tr th:only-of-type {\n",
              "        vertical-align: middle;\n",
              "    }\n",
              "\n",
              "    .dataframe tbody tr th {\n",
              "        vertical-align: top;\n",
              "    }\n",
              "\n",
              "    .dataframe thead th {\n",
              "        text-align: right;\n",
              "    }\n",
              "</style>\n",
              "<table border=\"1\" class=\"dataframe\">\n",
              "  <thead>\n",
              "    <tr style=\"text-align: right;\">\n",
              "      <th></th>\n",
              "      <th>Unnamed: 0</th>\n",
              "      <th>Unnamed: 1</th>\n",
              "      <th>Unnamed: 2</th>\n",
              "    </tr>\n",
              "  </thead>\n",
              "  <tbody>\n",
              "    <tr>\n",
              "      <th>0</th>\n",
              "      <td>NaN</td>\n",
              "      <td>NaN</td>\n",
              "      <td>NaN</td>\n",
              "    </tr>\n",
              "    <tr>\n",
              "      <th>1</th>\n",
              "      <td>NaN</td>\n",
              "      <td>Variables</td>\n",
              "      <td>Description</td>\n",
              "    </tr>\n",
              "    <tr>\n",
              "      <th>2</th>\n",
              "      <td>NaN</td>\n",
              "      <td>Prospect ID</td>\n",
              "      <td>A unique ID with which the customer is identified.</td>\n",
              "    </tr>\n",
              "    <tr>\n",
              "      <th>3</th>\n",
              "      <td>NaN</td>\n",
              "      <td>Lead Number</td>\n",
              "      <td>A lead number assigned to each lead procured.</td>\n",
              "    </tr>\n",
              "    <tr>\n",
              "      <th>4</th>\n",
              "      <td>NaN</td>\n",
              "      <td>Lead Origin</td>\n",
              "      <td>The origin identifier with which the customer was identified to be a lead. Includes API, Landing Page Submission, etc.</td>\n",
              "    </tr>\n",
              "  </tbody>\n",
              "</table>\n",
              "</div>\n",
              "      <button class=\"colab-df-convert\" onclick=\"convertToInteractive('df-4ec10797-4017-4aee-b84c-970694682b49')\"\n",
              "              title=\"Convert this dataframe to an interactive table.\"\n",
              "              style=\"display:none;\">\n",
              "        \n",
              "  <svg xmlns=\"http://www.w3.org/2000/svg\" height=\"24px\"viewBox=\"0 0 24 24\"\n",
              "       width=\"24px\">\n",
              "    <path d=\"M0 0h24v24H0V0z\" fill=\"none\"/>\n",
              "    <path d=\"M18.56 5.44l.94 2.06.94-2.06 2.06-.94-2.06-.94-.94-2.06-.94 2.06-2.06.94zm-11 1L8.5 8.5l.94-2.06 2.06-.94-2.06-.94L8.5 2.5l-.94 2.06-2.06.94zm10 10l.94 2.06.94-2.06 2.06-.94-2.06-.94-.94-2.06-.94 2.06-2.06.94z\"/><path d=\"M17.41 7.96l-1.37-1.37c-.4-.4-.92-.59-1.43-.59-.52 0-1.04.2-1.43.59L10.3 9.45l-7.72 7.72c-.78.78-.78 2.05 0 2.83L4 21.41c.39.39.9.59 1.41.59.51 0 1.02-.2 1.41-.59l7.78-7.78 2.81-2.81c.8-.78.8-2.07 0-2.86zM5.41 20L4 18.59l7.72-7.72 1.47 1.35L5.41 20z\"/>\n",
              "  </svg>\n",
              "      </button>\n",
              "      \n",
              "  <style>\n",
              "    .colab-df-container {\n",
              "      display:flex;\n",
              "      flex-wrap:wrap;\n",
              "      gap: 12px;\n",
              "    }\n",
              "\n",
              "    .colab-df-convert {\n",
              "      background-color: #E8F0FE;\n",
              "      border: none;\n",
              "      border-radius: 50%;\n",
              "      cursor: pointer;\n",
              "      display: none;\n",
              "      fill: #1967D2;\n",
              "      height: 32px;\n",
              "      padding: 0 0 0 0;\n",
              "      width: 32px;\n",
              "    }\n",
              "\n",
              "    .colab-df-convert:hover {\n",
              "      background-color: #E2EBFA;\n",
              "      box-shadow: 0px 1px 2px rgba(60, 64, 67, 0.3), 0px 1px 3px 1px rgba(60, 64, 67, 0.15);\n",
              "      fill: #174EA6;\n",
              "    }\n",
              "\n",
              "    [theme=dark] .colab-df-convert {\n",
              "      background-color: #3B4455;\n",
              "      fill: #D2E3FC;\n",
              "    }\n",
              "\n",
              "    [theme=dark] .colab-df-convert:hover {\n",
              "      background-color: #434B5C;\n",
              "      box-shadow: 0px 1px 3px 1px rgba(0, 0, 0, 0.15);\n",
              "      filter: drop-shadow(0px 1px 2px rgba(0, 0, 0, 0.3));\n",
              "      fill: #FFFFFF;\n",
              "    }\n",
              "  </style>\n",
              "\n",
              "      <script>\n",
              "        const buttonEl =\n",
              "          document.querySelector('#df-4ec10797-4017-4aee-b84c-970694682b49 button.colab-df-convert');\n",
              "        buttonEl.style.display =\n",
              "          google.colab.kernel.accessAllowed ? 'block' : 'none';\n",
              "\n",
              "        async function convertToInteractive(key) {\n",
              "          const element = document.querySelector('#df-4ec10797-4017-4aee-b84c-970694682b49');\n",
              "          const dataTable =\n",
              "            await google.colab.kernel.invokeFunction('convertToInteractive',\n",
              "                                                     [key], {});\n",
              "          if (!dataTable) return;\n",
              "\n",
              "          const docLinkHtml = 'Like what you see? Visit the ' +\n",
              "            '<a target=\"_blank\" href=https://colab.research.google.com/notebooks/data_table.ipynb>data table notebook</a>'\n",
              "            + ' to learn more about interactive tables.';\n",
              "          element.innerHTML = '';\n",
              "          dataTable['output_type'] = 'display_data';\n",
              "          await google.colab.output.renderOutput(dataTable, element);\n",
              "          const docLink = document.createElement('div');\n",
              "          docLink.innerHTML = docLinkHtml;\n",
              "          element.appendChild(docLink);\n",
              "        }\n",
              "      </script>\n",
              "    </div>\n",
              "  </div>\n",
              "  "
            ]
          },
          "metadata": {},
          "execution_count": 266
        }
      ]
    },
    {
      "cell_type": "code",
      "source": [
        "pd.set_option('display.max_colwidth', -1)\n",
        "dictionary.drop('Unnamed: 0',inplace=True,axis=1)\n",
        "dictionary.columns = dictionary.iloc[1]\n",
        "dictionary = dictionary.iloc[2:]\n",
        "dictionary.reset_index(drop=True, inplace=True)\n",
        "dictionary.head(len(dictionary))"
      ],
      "metadata": {
        "colab": {
          "base_uri": "https://localhost:8080/",
          "height": 1000
        },
        "id": "mSouTWdbwU0V",
        "outputId": "da6b566a-1ca0-4bb0-d963-ff7a9b67f0b8"
      },
      "execution_count": 267,
      "outputs": [
        {
          "output_type": "stream",
          "name": "stderr",
          "text": [
            "<ipython-input-267-9d00c7c23093>:1: FutureWarning: Passing a negative integer is deprecated in version 1.0 and will not be supported in future version. Instead, use None to not limit the column width.\n",
            "  pd.set_option('display.max_colwidth', -1)\n"
          ]
        },
        {
          "output_type": "execute_result",
          "data": {
            "text/plain": [
              "1                                          Variables  \\\n",
              "0   Prospect ID                                        \n",
              "1   Lead Number                                        \n",
              "2   Lead Origin                                        \n",
              "3   Lead Source                                        \n",
              "4   Do Not Email                                       \n",
              "5   Do Not Call                                        \n",
              "6   Converted                                          \n",
              "7   TotalVisits                                        \n",
              "8   Total Time Spent on Website                        \n",
              "9   Page Views Per Visit                               \n",
              "10  Last Activity                                      \n",
              "11  Country                                            \n",
              "12  Specialization                                     \n",
              "13  How did you hear about X Education                 \n",
              "14  What is your current occupation                    \n",
              "15  What matters most to you in choosing this course   \n",
              "16  Search                                             \n",
              "17  Magazine                                           \n",
              "18  Newspaper Article                                  \n",
              "19  X Education Forums                                 \n",
              "20  Newspaper                                          \n",
              "21  Digital Advertisement                              \n",
              "22  Through Recommendations                            \n",
              "23  Receive More Updates About Our Courses             \n",
              "24  Tags                                               \n",
              "25  Lead Quality                                       \n",
              "26  Update me on Supply Chain Content                  \n",
              "27  Get updates on DM Content                          \n",
              "28  Lead Profile                                       \n",
              "29  City                                               \n",
              "30  Asymmetrique Activity Index                        \n",
              "31  Asymmetrique Profile Index                         \n",
              "32  Asymmetrique Activity Score                        \n",
              "33  Asymmetrique Profile Score                         \n",
              "34  I agree to pay the amount through cheque           \n",
              "35  a free copy of Mastering The Interview             \n",
              "36  Last Notable Activity                              \n",
              "\n",
              "1                                                                                                                                                                         Description  \n",
              "0   A unique ID with which the customer is identified.                                                                                                                                 \n",
              "1   A lead number assigned to each lead procured.                                                                                                                                      \n",
              "2   The origin identifier with which the customer was identified to be a lead. Includes API, Landing Page Submission, etc.                                                             \n",
              "3   The source of the lead. Includes Google, Organic Search, Olark Chat, etc.                                                                                                          \n",
              "4   An indicator variable selected by the customer wherein they select whether of not they want to be emailed about the course or not.                                                 \n",
              "5   An indicator variable selected by the customer wherein they select whether of not they want to be called about the course or not.                                                  \n",
              "6   The target variable. Indicates whether a lead has been successfully converted or not.                                                                                              \n",
              "7   The total number of visits made by the customer on the website.                                                                                                                    \n",
              "8   The total time spent by the customer on the website.                                                                                                                               \n",
              "9   Average number of pages on the website viewed during the visits.                                                                                                                   \n",
              "10  Last activity performed by the customer. Includes Email Opened, Olark Chat Conversation, etc.                                                                                      \n",
              "11  The country of the customer.                                                                                                                                                       \n",
              "12  The industry domain in which the customer worked before. Includes the level 'Select Specialization' which means the customer had not selected this option while filling the form.  \n",
              "13  The source from which the customer heard about X Education.                                                                                                                        \n",
              "14  Indicates whether the customer is a student, umemployed or employed.                                                                                                               \n",
              "15  An option selected by the customer indicating what is their main motto behind doing this course.                                                                                   \n",
              "16  Indicating whether the customer had seen the ad in any of the listed items.                                                                                                        \n",
              "17  NaN                                                                                                                                                                                \n",
              "18  NaN                                                                                                                                                                                \n",
              "19  NaN                                                                                                                                                                                \n",
              "20  NaN                                                                                                                                                                                \n",
              "21  NaN                                                                                                                                                                                \n",
              "22  Indicates whether the customer came in through recommendations.                                                                                                                    \n",
              "23  Indicates whether the customer chose to receive more updates about the courses.                                                                                                    \n",
              "24  Tags assigned to customers indicating the current status of the lead.                                                                                                              \n",
              "25  Indicates the quality of lead based on the data and intuition the the employee who has been assigned to the lead.                                                                  \n",
              "26  Indicates whether the customer wants updates on the Supply Chain Content.                                                                                                          \n",
              "27  Indicates whether the customer wants updates on the DM Content.                                                                                                                    \n",
              "28  A lead level assigned to each customer based on their profile.                                                                                                                     \n",
              "29  The city of the customer.                                                                                                                                                          \n",
              "30  An index and score assigned to each customer based on their activity and their profile                                                                                             \n",
              "31  NaN                                                                                                                                                                                \n",
              "32  NaN                                                                                                                                                                                \n",
              "33  NaN                                                                                                                                                                                \n",
              "34  Indicates whether the customer has agreed to pay the amount through cheque or not.                                                                                                 \n",
              "35  Indicates whether the customer wants a free copy of 'Mastering the Interview' or not.                                                                                              \n",
              "36  The last notable acitivity performed by the student.                                                                                                                               "
            ],
            "text/html": [
              "\n",
              "  <div id=\"df-24693991-d4d3-4b89-93df-020b29835b18\">\n",
              "    <div class=\"colab-df-container\">\n",
              "      <div>\n",
              "<style scoped>\n",
              "    .dataframe tbody tr th:only-of-type {\n",
              "        vertical-align: middle;\n",
              "    }\n",
              "\n",
              "    .dataframe tbody tr th {\n",
              "        vertical-align: top;\n",
              "    }\n",
              "\n",
              "    .dataframe thead th {\n",
              "        text-align: right;\n",
              "    }\n",
              "</style>\n",
              "<table border=\"1\" class=\"dataframe\">\n",
              "  <thead>\n",
              "    <tr style=\"text-align: right;\">\n",
              "      <th>1</th>\n",
              "      <th>Variables</th>\n",
              "      <th>Description</th>\n",
              "    </tr>\n",
              "  </thead>\n",
              "  <tbody>\n",
              "    <tr>\n",
              "      <th>0</th>\n",
              "      <td>Prospect ID</td>\n",
              "      <td>A unique ID with which the customer is identified.</td>\n",
              "    </tr>\n",
              "    <tr>\n",
              "      <th>1</th>\n",
              "      <td>Lead Number</td>\n",
              "      <td>A lead number assigned to each lead procured.</td>\n",
              "    </tr>\n",
              "    <tr>\n",
              "      <th>2</th>\n",
              "      <td>Lead Origin</td>\n",
              "      <td>The origin identifier with which the customer was identified to be a lead. Includes API, Landing Page Submission, etc.</td>\n",
              "    </tr>\n",
              "    <tr>\n",
              "      <th>3</th>\n",
              "      <td>Lead Source</td>\n",
              "      <td>The source of the lead. Includes Google, Organic Search, Olark Chat, etc.</td>\n",
              "    </tr>\n",
              "    <tr>\n",
              "      <th>4</th>\n",
              "      <td>Do Not Email</td>\n",
              "      <td>An indicator variable selected by the customer wherein they select whether of not they want to be emailed about the course or not.</td>\n",
              "    </tr>\n",
              "    <tr>\n",
              "      <th>5</th>\n",
              "      <td>Do Not Call</td>\n",
              "      <td>An indicator variable selected by the customer wherein they select whether of not they want to be called about the course or not.</td>\n",
              "    </tr>\n",
              "    <tr>\n",
              "      <th>6</th>\n",
              "      <td>Converted</td>\n",
              "      <td>The target variable. Indicates whether a lead has been successfully converted or not.</td>\n",
              "    </tr>\n",
              "    <tr>\n",
              "      <th>7</th>\n",
              "      <td>TotalVisits</td>\n",
              "      <td>The total number of visits made by the customer on the website.</td>\n",
              "    </tr>\n",
              "    <tr>\n",
              "      <th>8</th>\n",
              "      <td>Total Time Spent on Website</td>\n",
              "      <td>The total time spent by the customer on the website.</td>\n",
              "    </tr>\n",
              "    <tr>\n",
              "      <th>9</th>\n",
              "      <td>Page Views Per Visit</td>\n",
              "      <td>Average number of pages on the website viewed during the visits.</td>\n",
              "    </tr>\n",
              "    <tr>\n",
              "      <th>10</th>\n",
              "      <td>Last Activity</td>\n",
              "      <td>Last activity performed by the customer. Includes Email Opened, Olark Chat Conversation, etc.</td>\n",
              "    </tr>\n",
              "    <tr>\n",
              "      <th>11</th>\n",
              "      <td>Country</td>\n",
              "      <td>The country of the customer.</td>\n",
              "    </tr>\n",
              "    <tr>\n",
              "      <th>12</th>\n",
              "      <td>Specialization</td>\n",
              "      <td>The industry domain in which the customer worked before. Includes the level 'Select Specialization' which means the customer had not selected this option while filling the form.</td>\n",
              "    </tr>\n",
              "    <tr>\n",
              "      <th>13</th>\n",
              "      <td>How did you hear about X Education</td>\n",
              "      <td>The source from which the customer heard about X Education.</td>\n",
              "    </tr>\n",
              "    <tr>\n",
              "      <th>14</th>\n",
              "      <td>What is your current occupation</td>\n",
              "      <td>Indicates whether the customer is a student, umemployed or employed.</td>\n",
              "    </tr>\n",
              "    <tr>\n",
              "      <th>15</th>\n",
              "      <td>What matters most to you in choosing this course</td>\n",
              "      <td>An option selected by the customer indicating what is their main motto behind doing this course.</td>\n",
              "    </tr>\n",
              "    <tr>\n",
              "      <th>16</th>\n",
              "      <td>Search</td>\n",
              "      <td>Indicating whether the customer had seen the ad in any of the listed items.</td>\n",
              "    </tr>\n",
              "    <tr>\n",
              "      <th>17</th>\n",
              "      <td>Magazine</td>\n",
              "      <td>NaN</td>\n",
              "    </tr>\n",
              "    <tr>\n",
              "      <th>18</th>\n",
              "      <td>Newspaper Article</td>\n",
              "      <td>NaN</td>\n",
              "    </tr>\n",
              "    <tr>\n",
              "      <th>19</th>\n",
              "      <td>X Education Forums</td>\n",
              "      <td>NaN</td>\n",
              "    </tr>\n",
              "    <tr>\n",
              "      <th>20</th>\n",
              "      <td>Newspaper</td>\n",
              "      <td>NaN</td>\n",
              "    </tr>\n",
              "    <tr>\n",
              "      <th>21</th>\n",
              "      <td>Digital Advertisement</td>\n",
              "      <td>NaN</td>\n",
              "    </tr>\n",
              "    <tr>\n",
              "      <th>22</th>\n",
              "      <td>Through Recommendations</td>\n",
              "      <td>Indicates whether the customer came in through recommendations.</td>\n",
              "    </tr>\n",
              "    <tr>\n",
              "      <th>23</th>\n",
              "      <td>Receive More Updates About Our Courses</td>\n",
              "      <td>Indicates whether the customer chose to receive more updates about the courses.</td>\n",
              "    </tr>\n",
              "    <tr>\n",
              "      <th>24</th>\n",
              "      <td>Tags</td>\n",
              "      <td>Tags assigned to customers indicating the current status of the lead.</td>\n",
              "    </tr>\n",
              "    <tr>\n",
              "      <th>25</th>\n",
              "      <td>Lead Quality</td>\n",
              "      <td>Indicates the quality of lead based on the data and intuition the the employee who has been assigned to the lead.</td>\n",
              "    </tr>\n",
              "    <tr>\n",
              "      <th>26</th>\n",
              "      <td>Update me on Supply Chain Content</td>\n",
              "      <td>Indicates whether the customer wants updates on the Supply Chain Content.</td>\n",
              "    </tr>\n",
              "    <tr>\n",
              "      <th>27</th>\n",
              "      <td>Get updates on DM Content</td>\n",
              "      <td>Indicates whether the customer wants updates on the DM Content.</td>\n",
              "    </tr>\n",
              "    <tr>\n",
              "      <th>28</th>\n",
              "      <td>Lead Profile</td>\n",
              "      <td>A lead level assigned to each customer based on their profile.</td>\n",
              "    </tr>\n",
              "    <tr>\n",
              "      <th>29</th>\n",
              "      <td>City</td>\n",
              "      <td>The city of the customer.</td>\n",
              "    </tr>\n",
              "    <tr>\n",
              "      <th>30</th>\n",
              "      <td>Asymmetrique Activity Index</td>\n",
              "      <td>An index and score assigned to each customer based on their activity and their profile</td>\n",
              "    </tr>\n",
              "    <tr>\n",
              "      <th>31</th>\n",
              "      <td>Asymmetrique Profile Index</td>\n",
              "      <td>NaN</td>\n",
              "    </tr>\n",
              "    <tr>\n",
              "      <th>32</th>\n",
              "      <td>Asymmetrique Activity Score</td>\n",
              "      <td>NaN</td>\n",
              "    </tr>\n",
              "    <tr>\n",
              "      <th>33</th>\n",
              "      <td>Asymmetrique Profile Score</td>\n",
              "      <td>NaN</td>\n",
              "    </tr>\n",
              "    <tr>\n",
              "      <th>34</th>\n",
              "      <td>I agree to pay the amount through cheque</td>\n",
              "      <td>Indicates whether the customer has agreed to pay the amount through cheque or not.</td>\n",
              "    </tr>\n",
              "    <tr>\n",
              "      <th>35</th>\n",
              "      <td>a free copy of Mastering The Interview</td>\n",
              "      <td>Indicates whether the customer wants a free copy of 'Mastering the Interview' or not.</td>\n",
              "    </tr>\n",
              "    <tr>\n",
              "      <th>36</th>\n",
              "      <td>Last Notable Activity</td>\n",
              "      <td>The last notable acitivity performed by the student.</td>\n",
              "    </tr>\n",
              "  </tbody>\n",
              "</table>\n",
              "</div>\n",
              "      <button class=\"colab-df-convert\" onclick=\"convertToInteractive('df-24693991-d4d3-4b89-93df-020b29835b18')\"\n",
              "              title=\"Convert this dataframe to an interactive table.\"\n",
              "              style=\"display:none;\">\n",
              "        \n",
              "  <svg xmlns=\"http://www.w3.org/2000/svg\" height=\"24px\"viewBox=\"0 0 24 24\"\n",
              "       width=\"24px\">\n",
              "    <path d=\"M0 0h24v24H0V0z\" fill=\"none\"/>\n",
              "    <path d=\"M18.56 5.44l.94 2.06.94-2.06 2.06-.94-2.06-.94-.94-2.06-.94 2.06-2.06.94zm-11 1L8.5 8.5l.94-2.06 2.06-.94-2.06-.94L8.5 2.5l-.94 2.06-2.06.94zm10 10l.94 2.06.94-2.06 2.06-.94-2.06-.94-.94-2.06-.94 2.06-2.06.94z\"/><path d=\"M17.41 7.96l-1.37-1.37c-.4-.4-.92-.59-1.43-.59-.52 0-1.04.2-1.43.59L10.3 9.45l-7.72 7.72c-.78.78-.78 2.05 0 2.83L4 21.41c.39.39.9.59 1.41.59.51 0 1.02-.2 1.41-.59l7.78-7.78 2.81-2.81c.8-.78.8-2.07 0-2.86zM5.41 20L4 18.59l7.72-7.72 1.47 1.35L5.41 20z\"/>\n",
              "  </svg>\n",
              "      </button>\n",
              "      \n",
              "  <style>\n",
              "    .colab-df-container {\n",
              "      display:flex;\n",
              "      flex-wrap:wrap;\n",
              "      gap: 12px;\n",
              "    }\n",
              "\n",
              "    .colab-df-convert {\n",
              "      background-color: #E8F0FE;\n",
              "      border: none;\n",
              "      border-radius: 50%;\n",
              "      cursor: pointer;\n",
              "      display: none;\n",
              "      fill: #1967D2;\n",
              "      height: 32px;\n",
              "      padding: 0 0 0 0;\n",
              "      width: 32px;\n",
              "    }\n",
              "\n",
              "    .colab-df-convert:hover {\n",
              "      background-color: #E2EBFA;\n",
              "      box-shadow: 0px 1px 2px rgba(60, 64, 67, 0.3), 0px 1px 3px 1px rgba(60, 64, 67, 0.15);\n",
              "      fill: #174EA6;\n",
              "    }\n",
              "\n",
              "    [theme=dark] .colab-df-convert {\n",
              "      background-color: #3B4455;\n",
              "      fill: #D2E3FC;\n",
              "    }\n",
              "\n",
              "    [theme=dark] .colab-df-convert:hover {\n",
              "      background-color: #434B5C;\n",
              "      box-shadow: 0px 1px 3px 1px rgba(0, 0, 0, 0.15);\n",
              "      filter: drop-shadow(0px 1px 2px rgba(0, 0, 0, 0.3));\n",
              "      fill: #FFFFFF;\n",
              "    }\n",
              "  </style>\n",
              "\n",
              "      <script>\n",
              "        const buttonEl =\n",
              "          document.querySelector('#df-24693991-d4d3-4b89-93df-020b29835b18 button.colab-df-convert');\n",
              "        buttonEl.style.display =\n",
              "          google.colab.kernel.accessAllowed ? 'block' : 'none';\n",
              "\n",
              "        async function convertToInteractive(key) {\n",
              "          const element = document.querySelector('#df-24693991-d4d3-4b89-93df-020b29835b18');\n",
              "          const dataTable =\n",
              "            await google.colab.kernel.invokeFunction('convertToInteractive',\n",
              "                                                     [key], {});\n",
              "          if (!dataTable) return;\n",
              "\n",
              "          const docLinkHtml = 'Like what you see? Visit the ' +\n",
              "            '<a target=\"_blank\" href=https://colab.research.google.com/notebooks/data_table.ipynb>data table notebook</a>'\n",
              "            + ' to learn more about interactive tables.';\n",
              "          element.innerHTML = '';\n",
              "          dataTable['output_type'] = 'display_data';\n",
              "          await google.colab.output.renderOutput(dataTable, element);\n",
              "          const docLink = document.createElement('div');\n",
              "          docLink.innerHTML = docLinkHtml;\n",
              "          element.appendChild(docLink);\n",
              "        }\n",
              "      </script>\n",
              "    </div>\n",
              "  </div>\n",
              "  "
            ]
          },
          "metadata": {},
          "execution_count": 267
        }
      ]
    },
    {
      "cell_type": "markdown",
      "source": [
        "Store the information of the original dataset, before data cleaning"
      ],
      "metadata": {
        "id": "jE6yEAohYHD5"
      }
    },
    {
      "cell_type": "code",
      "source": [
        "n_rows = lead_data_df.shape[0]\n",
        "print('Number of original rows: {0}'.format(n_rows))\n",
        "\n"
      ],
      "metadata": {
        "colab": {
          "base_uri": "https://localhost:8080/"
        },
        "id": "qeisRbAqX4LL",
        "outputId": "88e02b28-f4cd-4bac-dee2-35ee096b6796"
      },
      "execution_count": 268,
      "outputs": [
        {
          "output_type": "stream",
          "name": "stdout",
          "text": [
            "Number of original rows: 9240\n"
          ]
        }
      ]
    },
    {
      "cell_type": "markdown",
      "source": [
        "##Data Preprocessing\n"
      ],
      "metadata": {
        "id": "rBjjzw2tY6Z2"
      }
    },
    {
      "cell_type": "markdown",
      "source": [
        "Rename the features for simplicity"
      ],
      "metadata": {
        "id": "R4HWWHgiZDpz"
      }
    },
    {
      "cell_type": "code",
      "source": [
        "lead_data_df.rename(columns={'Converted':'Converted',\n",
        "                            'Prospect ID':'ProspectId',\n",
        "                            'Lead Number':'LeadNumber',\n",
        "                            'Lead Origin':'LeadOrigin',\n",
        "                            'Lead Source':'LeadSource',\n",
        "                            'Do Not Email':'DndEmail',\n",
        "                            'Do Not Call':'DndCall',\n",
        "                            'TotalVisits':'TotalVisits',\n",
        "                            'Total Time Spent on Website':'TotalWebsiteTime',\n",
        "                            'Page Views Per Visit':'PagesPerVisit',\n",
        "                            'Last Activity':'LastActivity',\n",
        "                            'Country':'Country',\n",
        "                            'Specialization':'Specialization',\n",
        "                            'How did you hear about X Education':'HowHeard',\n",
        "                            'What is your current occupation':'Occupation',\n",
        "                            'What matters most to you in choosing a course':'MattersMost',\n",
        "                            'Search':'Search',\n",
        "                            'Magazine':'Magazine',\n",
        "                            'Newspaper Article':'PaperArticle',\n",
        "                            'X Education Forums':'EducationForum',\n",
        "                            'Newspaper':'Newspaper',\n",
        "                            'Digital Advertisement':'DigitalAd',\n",
        "                            'Through Recommendations':'Recommendation',\n",
        "                            'Receive More Updates About Our Courses':'ReceiveCourseUpdate',\n",
        "                            'Tags':'Tags',\n",
        "                            'Lead Quality':'LeadQuality',\n",
        "                            'Update me on Supply Chain Content':'UpdateSupplyChain',\n",
        "                            'Get updates on DM Content':'UpdateDMContent',\n",
        "                            'Lead Profile':'LeadProfile',\n",
        "                            'City':'City',\n",
        "                            'Asymmetrique Activity Index':'ActivityIndex',\n",
        "                            'Asymmetrique Profile Index':'ProfileIndex',\n",
        "                            'Asymmetrique Activity Score':'ActivityScore',\n",
        "                            'Asymmetrique Profile Score':'ProfileScore',\n",
        "                            'I agree to pay the amount through cheque':'ChequePayment',\n",
        "                            'A free copy of Mastering The Interview':'FreeCopy',\n",
        "                            'Last Notable Activity':'LastNotableActivity'},\n",
        "                   inplace=True)       \n"
      ],
      "metadata": {
        "id": "XnFeUZynkPOj"
      },
      "execution_count": 269,
      "outputs": []
    },
    {
      "cell_type": "markdown",
      "source": [
        "bring the target variable at the first index of the dataframe \n"
      ],
      "metadata": {
        "id": "VIAPTj10ZCTe"
      }
    },
    {
      "cell_type": "code",
      "source": [
        "variables= list(lead_data_df.columns)\n",
        "variables.insert(0,variables.pop(variables.index('Converted')))\n",
        "lead_data_df = lead_data_df.loc[:,variables]\n"
      ],
      "metadata": {
        "id": "_msS_SY4YZSo"
      },
      "execution_count": 270,
      "outputs": []
    },
    {
      "cell_type": "code",
      "source": [
        "lead_data_df.head()"
      ],
      "metadata": {
        "colab": {
          "base_uri": "https://localhost:8080/",
          "height": 439
        },
        "id": "eFFx_yYodDjV",
        "outputId": "279ad460-5df0-46b6-8e87-794159640c49"
      },
      "execution_count": 271,
      "outputs": [
        {
          "output_type": "execute_result",
          "data": {
            "text/plain": [
              "   Converted                            ProspectId  LeadNumber  \\\n",
              "0  0          7927b2df-8bba-4d29-b9a2-b6e0beafe620  660737       \n",
              "1  0          2a272436-5132-4136-86fa-dcc88c88f482  660728       \n",
              "2  1          8cc8c611-a219-4f35-ad23-fdfd2656bd8a  660727       \n",
              "3  0          0cc2df48-7cf4-4e39-9de9-19797f9b38cc  660719       \n",
              "4  1          3256f628-e534-4826-9d63-4a8b88782852  660681       \n",
              "\n",
              "                LeadOrigin      LeadSource DndEmail DndCall  TotalVisits  \\\n",
              "0  API                      Olark Chat      No       No      0.0           \n",
              "1  API                      Organic Search  No       No      5.0           \n",
              "2  Landing Page Submission  Direct Traffic  No       No      2.0           \n",
              "3  Landing Page Submission  Direct Traffic  No       No      1.0           \n",
              "4  Landing Page Submission  Google          No       No      2.0           \n",
              "\n",
              "   TotalWebsiteTime  PagesPerVisit  ... UpdateDMContent     LeadProfile  \\\n",
              "0  0                 0.0            ...  No              Select           \n",
              "1  674               2.5            ...  No              Select           \n",
              "2  1532              2.0            ...  No              Potential Lead   \n",
              "3  305               1.0            ...  No              Select           \n",
              "4  1428              1.0            ...  No              Select           \n",
              "\n",
              "     City ActivityIndex ProfileIndex ActivityScore ProfileScore ChequePayment  \\\n",
              "0  Select  02.Medium     02.Medium    15.0          15.0         No             \n",
              "1  Select  02.Medium     02.Medium    15.0          15.0         No             \n",
              "2  Mumbai  02.Medium     01.High      14.0          20.0         No             \n",
              "3  Mumbai  02.Medium     01.High      13.0          17.0         No             \n",
              "4  Mumbai  02.Medium     01.High      15.0          18.0         No             \n",
              "\n",
              "  FreeCopy LastNotableActivity  \n",
              "0  No       Modified            \n",
              "1  No       Email Opened        \n",
              "2  Yes      Email Opened        \n",
              "3  No       Modified            \n",
              "4  No       Modified            \n",
              "\n",
              "[5 rows x 37 columns]"
            ],
            "text/html": [
              "\n",
              "  <div id=\"df-5a777e25-12d1-45cf-a651-e289706c272d\">\n",
              "    <div class=\"colab-df-container\">\n",
              "      <div>\n",
              "<style scoped>\n",
              "    .dataframe tbody tr th:only-of-type {\n",
              "        vertical-align: middle;\n",
              "    }\n",
              "\n",
              "    .dataframe tbody tr th {\n",
              "        vertical-align: top;\n",
              "    }\n",
              "\n",
              "    .dataframe thead th {\n",
              "        text-align: right;\n",
              "    }\n",
              "</style>\n",
              "<table border=\"1\" class=\"dataframe\">\n",
              "  <thead>\n",
              "    <tr style=\"text-align: right;\">\n",
              "      <th></th>\n",
              "      <th>Converted</th>\n",
              "      <th>ProspectId</th>\n",
              "      <th>LeadNumber</th>\n",
              "      <th>LeadOrigin</th>\n",
              "      <th>LeadSource</th>\n",
              "      <th>DndEmail</th>\n",
              "      <th>DndCall</th>\n",
              "      <th>TotalVisits</th>\n",
              "      <th>TotalWebsiteTime</th>\n",
              "      <th>PagesPerVisit</th>\n",
              "      <th>...</th>\n",
              "      <th>UpdateDMContent</th>\n",
              "      <th>LeadProfile</th>\n",
              "      <th>City</th>\n",
              "      <th>ActivityIndex</th>\n",
              "      <th>ProfileIndex</th>\n",
              "      <th>ActivityScore</th>\n",
              "      <th>ProfileScore</th>\n",
              "      <th>ChequePayment</th>\n",
              "      <th>FreeCopy</th>\n",
              "      <th>LastNotableActivity</th>\n",
              "    </tr>\n",
              "  </thead>\n",
              "  <tbody>\n",
              "    <tr>\n",
              "      <th>0</th>\n",
              "      <td>0</td>\n",
              "      <td>7927b2df-8bba-4d29-b9a2-b6e0beafe620</td>\n",
              "      <td>660737</td>\n",
              "      <td>API</td>\n",
              "      <td>Olark Chat</td>\n",
              "      <td>No</td>\n",
              "      <td>No</td>\n",
              "      <td>0.0</td>\n",
              "      <td>0</td>\n",
              "      <td>0.0</td>\n",
              "      <td>...</td>\n",
              "      <td>No</td>\n",
              "      <td>Select</td>\n",
              "      <td>Select</td>\n",
              "      <td>02.Medium</td>\n",
              "      <td>02.Medium</td>\n",
              "      <td>15.0</td>\n",
              "      <td>15.0</td>\n",
              "      <td>No</td>\n",
              "      <td>No</td>\n",
              "      <td>Modified</td>\n",
              "    </tr>\n",
              "    <tr>\n",
              "      <th>1</th>\n",
              "      <td>0</td>\n",
              "      <td>2a272436-5132-4136-86fa-dcc88c88f482</td>\n",
              "      <td>660728</td>\n",
              "      <td>API</td>\n",
              "      <td>Organic Search</td>\n",
              "      <td>No</td>\n",
              "      <td>No</td>\n",
              "      <td>5.0</td>\n",
              "      <td>674</td>\n",
              "      <td>2.5</td>\n",
              "      <td>...</td>\n",
              "      <td>No</td>\n",
              "      <td>Select</td>\n",
              "      <td>Select</td>\n",
              "      <td>02.Medium</td>\n",
              "      <td>02.Medium</td>\n",
              "      <td>15.0</td>\n",
              "      <td>15.0</td>\n",
              "      <td>No</td>\n",
              "      <td>No</td>\n",
              "      <td>Email Opened</td>\n",
              "    </tr>\n",
              "    <tr>\n",
              "      <th>2</th>\n",
              "      <td>1</td>\n",
              "      <td>8cc8c611-a219-4f35-ad23-fdfd2656bd8a</td>\n",
              "      <td>660727</td>\n",
              "      <td>Landing Page Submission</td>\n",
              "      <td>Direct Traffic</td>\n",
              "      <td>No</td>\n",
              "      <td>No</td>\n",
              "      <td>2.0</td>\n",
              "      <td>1532</td>\n",
              "      <td>2.0</td>\n",
              "      <td>...</td>\n",
              "      <td>No</td>\n",
              "      <td>Potential Lead</td>\n",
              "      <td>Mumbai</td>\n",
              "      <td>02.Medium</td>\n",
              "      <td>01.High</td>\n",
              "      <td>14.0</td>\n",
              "      <td>20.0</td>\n",
              "      <td>No</td>\n",
              "      <td>Yes</td>\n",
              "      <td>Email Opened</td>\n",
              "    </tr>\n",
              "    <tr>\n",
              "      <th>3</th>\n",
              "      <td>0</td>\n",
              "      <td>0cc2df48-7cf4-4e39-9de9-19797f9b38cc</td>\n",
              "      <td>660719</td>\n",
              "      <td>Landing Page Submission</td>\n",
              "      <td>Direct Traffic</td>\n",
              "      <td>No</td>\n",
              "      <td>No</td>\n",
              "      <td>1.0</td>\n",
              "      <td>305</td>\n",
              "      <td>1.0</td>\n",
              "      <td>...</td>\n",
              "      <td>No</td>\n",
              "      <td>Select</td>\n",
              "      <td>Mumbai</td>\n",
              "      <td>02.Medium</td>\n",
              "      <td>01.High</td>\n",
              "      <td>13.0</td>\n",
              "      <td>17.0</td>\n",
              "      <td>No</td>\n",
              "      <td>No</td>\n",
              "      <td>Modified</td>\n",
              "    </tr>\n",
              "    <tr>\n",
              "      <th>4</th>\n",
              "      <td>1</td>\n",
              "      <td>3256f628-e534-4826-9d63-4a8b88782852</td>\n",
              "      <td>660681</td>\n",
              "      <td>Landing Page Submission</td>\n",
              "      <td>Google</td>\n",
              "      <td>No</td>\n",
              "      <td>No</td>\n",
              "      <td>2.0</td>\n",
              "      <td>1428</td>\n",
              "      <td>1.0</td>\n",
              "      <td>...</td>\n",
              "      <td>No</td>\n",
              "      <td>Select</td>\n",
              "      <td>Mumbai</td>\n",
              "      <td>02.Medium</td>\n",
              "      <td>01.High</td>\n",
              "      <td>15.0</td>\n",
              "      <td>18.0</td>\n",
              "      <td>No</td>\n",
              "      <td>No</td>\n",
              "      <td>Modified</td>\n",
              "    </tr>\n",
              "  </tbody>\n",
              "</table>\n",
              "<p>5 rows × 37 columns</p>\n",
              "</div>\n",
              "      <button class=\"colab-df-convert\" onclick=\"convertToInteractive('df-5a777e25-12d1-45cf-a651-e289706c272d')\"\n",
              "              title=\"Convert this dataframe to an interactive table.\"\n",
              "              style=\"display:none;\">\n",
              "        \n",
              "  <svg xmlns=\"http://www.w3.org/2000/svg\" height=\"24px\"viewBox=\"0 0 24 24\"\n",
              "       width=\"24px\">\n",
              "    <path d=\"M0 0h24v24H0V0z\" fill=\"none\"/>\n",
              "    <path d=\"M18.56 5.44l.94 2.06.94-2.06 2.06-.94-2.06-.94-.94-2.06-.94 2.06-2.06.94zm-11 1L8.5 8.5l.94-2.06 2.06-.94-2.06-.94L8.5 2.5l-.94 2.06-2.06.94zm10 10l.94 2.06.94-2.06 2.06-.94-2.06-.94-.94-2.06-.94 2.06-2.06.94z\"/><path d=\"M17.41 7.96l-1.37-1.37c-.4-.4-.92-.59-1.43-.59-.52 0-1.04.2-1.43.59L10.3 9.45l-7.72 7.72c-.78.78-.78 2.05 0 2.83L4 21.41c.39.39.9.59 1.41.59.51 0 1.02-.2 1.41-.59l7.78-7.78 2.81-2.81c.8-.78.8-2.07 0-2.86zM5.41 20L4 18.59l7.72-7.72 1.47 1.35L5.41 20z\"/>\n",
              "  </svg>\n",
              "      </button>\n",
              "      \n",
              "  <style>\n",
              "    .colab-df-container {\n",
              "      display:flex;\n",
              "      flex-wrap:wrap;\n",
              "      gap: 12px;\n",
              "    }\n",
              "\n",
              "    .colab-df-convert {\n",
              "      background-color: #E8F0FE;\n",
              "      border: none;\n",
              "      border-radius: 50%;\n",
              "      cursor: pointer;\n",
              "      display: none;\n",
              "      fill: #1967D2;\n",
              "      height: 32px;\n",
              "      padding: 0 0 0 0;\n",
              "      width: 32px;\n",
              "    }\n",
              "\n",
              "    .colab-df-convert:hover {\n",
              "      background-color: #E2EBFA;\n",
              "      box-shadow: 0px 1px 2px rgba(60, 64, 67, 0.3), 0px 1px 3px 1px rgba(60, 64, 67, 0.15);\n",
              "      fill: #174EA6;\n",
              "    }\n",
              "\n",
              "    [theme=dark] .colab-df-convert {\n",
              "      background-color: #3B4455;\n",
              "      fill: #D2E3FC;\n",
              "    }\n",
              "\n",
              "    [theme=dark] .colab-df-convert:hover {\n",
              "      background-color: #434B5C;\n",
              "      box-shadow: 0px 1px 3px 1px rgba(0, 0, 0, 0.15);\n",
              "      filter: drop-shadow(0px 1px 2px rgba(0, 0, 0, 0.3));\n",
              "      fill: #FFFFFF;\n",
              "    }\n",
              "  </style>\n",
              "\n",
              "      <script>\n",
              "        const buttonEl =\n",
              "          document.querySelector('#df-5a777e25-12d1-45cf-a651-e289706c272d button.colab-df-convert');\n",
              "        buttonEl.style.display =\n",
              "          google.colab.kernel.accessAllowed ? 'block' : 'none';\n",
              "\n",
              "        async function convertToInteractive(key) {\n",
              "          const element = document.querySelector('#df-5a777e25-12d1-45cf-a651-e289706c272d');\n",
              "          const dataTable =\n",
              "            await google.colab.kernel.invokeFunction('convertToInteractive',\n",
              "                                                     [key], {});\n",
              "          if (!dataTable) return;\n",
              "\n",
              "          const docLinkHtml = 'Like what you see? Visit the ' +\n",
              "            '<a target=\"_blank\" href=https://colab.research.google.com/notebooks/data_table.ipynb>data table notebook</a>'\n",
              "            + ' to learn more about interactive tables.';\n",
              "          element.innerHTML = '';\n",
              "          dataTable['output_type'] = 'display_data';\n",
              "          await google.colab.output.renderOutput(dataTable, element);\n",
              "          const docLink = document.createElement('div');\n",
              "          docLink.innerHTML = docLinkHtml;\n",
              "          element.appendChild(docLink);\n",
              "        }\n",
              "      </script>\n",
              "    </div>\n",
              "  </div>\n",
              "  "
            ]
          },
          "metadata": {},
          "execution_count": 271
        }
      ]
    },
    {
      "cell_type": "markdown",
      "source": [
        "Check for missing values and duplicates"
      ],
      "metadata": {
        "id": "Uh2xrLy4ezbX"
      }
    },
    {
      "cell_type": "code",
      "source": [
        "lead_duplicate= lead_data_df.copy()\n",
        "lead_duplicate.drop_duplicates(subset=None,inplace=True)\n",
        "lead_duplicate.shape\n"
      ],
      "metadata": {
        "colab": {
          "base_uri": "https://localhost:8080/"
        },
        "id": "VxHfv0QWe4XG",
        "outputId": "134d84f5-7a91-439c-927d-f69a46b8d2cb"
      },
      "execution_count": 272,
      "outputs": [
        {
          "output_type": "execute_result",
          "data": {
            "text/plain": [
              "(9240, 37)"
            ]
          },
          "metadata": {},
          "execution_count": 272
        }
      ]
    },
    {
      "cell_type": "code",
      "source": [
        "lead_data_df.shape"
      ],
      "metadata": {
        "colab": {
          "base_uri": "https://localhost:8080/"
        },
        "id": "Ii3V7WfdfsZk",
        "outputId": "0539df99-bc21-4615-a6ec-15548f8cb9cd"
      },
      "execution_count": 273,
      "outputs": [
        {
          "output_type": "execute_result",
          "data": {
            "text/plain": [
              "(9240, 37)"
            ]
          },
          "metadata": {},
          "execution_count": 273
        }
      ]
    },
    {
      "cell_type": "markdown",
      "source": [
        "Check for Missing values "
      ],
      "metadata": {
        "id": "EK5-huukhc8M"
      }
    },
    {
      "cell_type": "code",
      "source": [
        "lead_data_df.isnull().sum()"
      ],
      "metadata": {
        "colab": {
          "base_uri": "https://localhost:8080/"
        },
        "id": "2Qp2Bdg3hSp1",
        "outputId": "f187b823-26b9-4d2a-ab9c-dbb1ee9c3b53"
      },
      "execution_count": 274,
      "outputs": [
        {
          "output_type": "execute_result",
          "data": {
            "text/plain": [
              "Converted              0   \n",
              "ProspectId             0   \n",
              "LeadNumber             0   \n",
              "LeadOrigin             0   \n",
              "LeadSource             36  \n",
              "DndEmail               0   \n",
              "DndCall                0   \n",
              "TotalVisits            137 \n",
              "TotalWebsiteTime       0   \n",
              "PagesPerVisit          137 \n",
              "LastActivity           103 \n",
              "Country                2461\n",
              "Specialization         1438\n",
              "HowHeard               2207\n",
              "Occupation             2690\n",
              "MattersMost            2709\n",
              "Search                 0   \n",
              "Magazine               0   \n",
              "PaperArticle           0   \n",
              "EducationForum         0   \n",
              "Newspaper              0   \n",
              "DigitalAd              0   \n",
              "Recommendation         0   \n",
              "ReceiveCourseUpdate    0   \n",
              "Tags                   3353\n",
              "LeadQuality            4767\n",
              "UpdateSupplyChain      0   \n",
              "UpdateDMContent        0   \n",
              "LeadProfile            2709\n",
              "City                   1420\n",
              "ActivityIndex          4218\n",
              "ProfileIndex           4218\n",
              "ActivityScore          4218\n",
              "ProfileScore           4218\n",
              "ChequePayment          0   \n",
              "FreeCopy               0   \n",
              "LastNotableActivity    0   \n",
              "dtype: int64"
            ]
          },
          "metadata": {},
          "execution_count": 274
        }
      ]
    },
    {
      "cell_type": "markdown",
      "source": [
        "We can also compare directly by building a table for a quick check for missing values and duplicates."
      ],
      "metadata": {
        "id": "6y7DHDpOfzaf"
      }
    },
    {
      "cell_type": "code",
      "source": [
        "pd.DataFrame([[lead_data_df.shape],\n",
        "              [lead_data_df.isnull().sum().sum()],\n",
        "             [lead_data_df.duplicated().sum()]],\n",
        "            columns = ['Dataset'],\n",
        "            index = ['Shape','Missing values','Duplicates'])"
      ],
      "metadata": {
        "colab": {
          "base_uri": "https://localhost:8080/",
          "height": 143
        },
        "id": "RZjQzfDPf8o-",
        "outputId": "1046cc2d-3499-4442-ec8b-dacba3b1a8e8"
      },
      "execution_count": 275,
      "outputs": [
        {
          "output_type": "execute_result",
          "data": {
            "text/plain": [
              "                   Dataset\n",
              "Shape           (9240, 37)\n",
              "Missing values  41039     \n",
              "Duplicates      0         "
            ],
            "text/html": [
              "\n",
              "  <div id=\"df-e148fb3f-df34-4663-9dd5-d054c00f9f4a\">\n",
              "    <div class=\"colab-df-container\">\n",
              "      <div>\n",
              "<style scoped>\n",
              "    .dataframe tbody tr th:only-of-type {\n",
              "        vertical-align: middle;\n",
              "    }\n",
              "\n",
              "    .dataframe tbody tr th {\n",
              "        vertical-align: top;\n",
              "    }\n",
              "\n",
              "    .dataframe thead th {\n",
              "        text-align: right;\n",
              "    }\n",
              "</style>\n",
              "<table border=\"1\" class=\"dataframe\">\n",
              "  <thead>\n",
              "    <tr style=\"text-align: right;\">\n",
              "      <th></th>\n",
              "      <th>Dataset</th>\n",
              "    </tr>\n",
              "  </thead>\n",
              "  <tbody>\n",
              "    <tr>\n",
              "      <th>Shape</th>\n",
              "      <td>(9240, 37)</td>\n",
              "    </tr>\n",
              "    <tr>\n",
              "      <th>Missing values</th>\n",
              "      <td>41039</td>\n",
              "    </tr>\n",
              "    <tr>\n",
              "      <th>Duplicates</th>\n",
              "      <td>0</td>\n",
              "    </tr>\n",
              "  </tbody>\n",
              "</table>\n",
              "</div>\n",
              "      <button class=\"colab-df-convert\" onclick=\"convertToInteractive('df-e148fb3f-df34-4663-9dd5-d054c00f9f4a')\"\n",
              "              title=\"Convert this dataframe to an interactive table.\"\n",
              "              style=\"display:none;\">\n",
              "        \n",
              "  <svg xmlns=\"http://www.w3.org/2000/svg\" height=\"24px\"viewBox=\"0 0 24 24\"\n",
              "       width=\"24px\">\n",
              "    <path d=\"M0 0h24v24H0V0z\" fill=\"none\"/>\n",
              "    <path d=\"M18.56 5.44l.94 2.06.94-2.06 2.06-.94-2.06-.94-.94-2.06-.94 2.06-2.06.94zm-11 1L8.5 8.5l.94-2.06 2.06-.94-2.06-.94L8.5 2.5l-.94 2.06-2.06.94zm10 10l.94 2.06.94-2.06 2.06-.94-2.06-.94-.94-2.06-.94 2.06-2.06.94z\"/><path d=\"M17.41 7.96l-1.37-1.37c-.4-.4-.92-.59-1.43-.59-.52 0-1.04.2-1.43.59L10.3 9.45l-7.72 7.72c-.78.78-.78 2.05 0 2.83L4 21.41c.39.39.9.59 1.41.59.51 0 1.02-.2 1.41-.59l7.78-7.78 2.81-2.81c.8-.78.8-2.07 0-2.86zM5.41 20L4 18.59l7.72-7.72 1.47 1.35L5.41 20z\"/>\n",
              "  </svg>\n",
              "      </button>\n",
              "      \n",
              "  <style>\n",
              "    .colab-df-container {\n",
              "      display:flex;\n",
              "      flex-wrap:wrap;\n",
              "      gap: 12px;\n",
              "    }\n",
              "\n",
              "    .colab-df-convert {\n",
              "      background-color: #E8F0FE;\n",
              "      border: none;\n",
              "      border-radius: 50%;\n",
              "      cursor: pointer;\n",
              "      display: none;\n",
              "      fill: #1967D2;\n",
              "      height: 32px;\n",
              "      padding: 0 0 0 0;\n",
              "      width: 32px;\n",
              "    }\n",
              "\n",
              "    .colab-df-convert:hover {\n",
              "      background-color: #E2EBFA;\n",
              "      box-shadow: 0px 1px 2px rgba(60, 64, 67, 0.3), 0px 1px 3px 1px rgba(60, 64, 67, 0.15);\n",
              "      fill: #174EA6;\n",
              "    }\n",
              "\n",
              "    [theme=dark] .colab-df-convert {\n",
              "      background-color: #3B4455;\n",
              "      fill: #D2E3FC;\n",
              "    }\n",
              "\n",
              "    [theme=dark] .colab-df-convert:hover {\n",
              "      background-color: #434B5C;\n",
              "      box-shadow: 0px 1px 3px 1px rgba(0, 0, 0, 0.15);\n",
              "      filter: drop-shadow(0px 1px 2px rgba(0, 0, 0, 0.3));\n",
              "      fill: #FFFFFF;\n",
              "    }\n",
              "  </style>\n",
              "\n",
              "      <script>\n",
              "        const buttonEl =\n",
              "          document.querySelector('#df-e148fb3f-df34-4663-9dd5-d054c00f9f4a button.colab-df-convert');\n",
              "        buttonEl.style.display =\n",
              "          google.colab.kernel.accessAllowed ? 'block' : 'none';\n",
              "\n",
              "        async function convertToInteractive(key) {\n",
              "          const element = document.querySelector('#df-e148fb3f-df34-4663-9dd5-d054c00f9f4a');\n",
              "          const dataTable =\n",
              "            await google.colab.kernel.invokeFunction('convertToInteractive',\n",
              "                                                     [key], {});\n",
              "          if (!dataTable) return;\n",
              "\n",
              "          const docLinkHtml = 'Like what you see? Visit the ' +\n",
              "            '<a target=\"_blank\" href=https://colab.research.google.com/notebooks/data_table.ipynb>data table notebook</a>'\n",
              "            + ' to learn more about interactive tables.';\n",
              "          element.innerHTML = '';\n",
              "          dataTable['output_type'] = 'display_data';\n",
              "          await google.colab.output.renderOutput(dataTable, element);\n",
              "          const docLink = document.createElement('div');\n",
              "          docLink.innerHTML = docLinkHtml;\n",
              "          element.appendChild(docLink);\n",
              "        }\n",
              "      </script>\n",
              "    </div>\n",
              "  </div>\n",
              "  "
            ]
          },
          "metadata": {},
          "execution_count": 275
        }
      ]
    },
    {
      "cell_type": "markdown",
      "source": [
        "There are many values as 'Select', because the leads have not selected any options. "
      ],
      "metadata": {
        "id": "0RP11bBXh4ms"
      }
    },
    {
      "cell_type": "code",
      "source": [
        "lead_data_df[lead_data_df == 'Select'].count()\n"
      ],
      "metadata": {
        "colab": {
          "base_uri": "https://localhost:8080/"
        },
        "id": "d4y6k9eehj7j",
        "outputId": "e3dc8c3e-da5b-4712-83d1-42d290acc46d"
      },
      "execution_count": 276,
      "outputs": [
        {
          "output_type": "execute_result",
          "data": {
            "text/plain": [
              "Converted              0   \n",
              "ProspectId             0   \n",
              "LeadNumber             0   \n",
              "LeadOrigin             0   \n",
              "LeadSource             0   \n",
              "DndEmail               0   \n",
              "DndCall                0   \n",
              "TotalVisits            0   \n",
              "TotalWebsiteTime       0   \n",
              "PagesPerVisit          0   \n",
              "LastActivity           0   \n",
              "Country                0   \n",
              "Specialization         1942\n",
              "HowHeard               5043\n",
              "Occupation             0   \n",
              "MattersMost            0   \n",
              "Search                 0   \n",
              "Magazine               0   \n",
              "PaperArticle           0   \n",
              "EducationForum         0   \n",
              "Newspaper              0   \n",
              "DigitalAd              0   \n",
              "Recommendation         0   \n",
              "ReceiveCourseUpdate    0   \n",
              "Tags                   0   \n",
              "LeadQuality            0   \n",
              "UpdateSupplyChain      0   \n",
              "UpdateDMContent        0   \n",
              "LeadProfile            4146\n",
              "City                   2249\n",
              "ActivityIndex          0   \n",
              "ProfileIndex           0   \n",
              "ActivityScore          0   \n",
              "ProfileScore           0   \n",
              "ChequePayment          0   \n",
              "FreeCopy               0   \n",
              "LastNotableActivity    0   \n",
              "dtype: int64"
            ]
          },
          "metadata": {},
          "execution_count": 276
        }
      ]
    },
    {
      "cell_type": "markdown",
      "source": [
        "We can see for each feature the number of 'Select' values: particularly, only Specialization, HowHeard, LeadProfile, City.\n"
      ],
      "metadata": {
        "id": "V7WgAWGQkgyM"
      }
    },
    {
      "cell_type": "markdown",
      "source": [
        "We need to replace them with NaN values."
      ],
      "metadata": {
        "id": "bJQ6zQEplbD2"
      }
    },
    {
      "cell_type": "code",
      "source": [
        "lead_data_df.replace('Select',np.NaN,inplace=True)\n",
        "lead_data_df[lead_data_df == 'Select'].count()\n"
      ],
      "metadata": {
        "colab": {
          "base_uri": "https://localhost:8080/"
        },
        "id": "LtGek5JMkqZm",
        "outputId": "2678222e-acf9-4bad-a5e8-466a6bd1b338"
      },
      "execution_count": 277,
      "outputs": [
        {
          "output_type": "execute_result",
          "data": {
            "text/plain": [
              "Converted              0\n",
              "ProspectId             0\n",
              "LeadNumber             0\n",
              "LeadOrigin             0\n",
              "LeadSource             0\n",
              "DndEmail               0\n",
              "DndCall                0\n",
              "TotalVisits            0\n",
              "TotalWebsiteTime       0\n",
              "PagesPerVisit          0\n",
              "LastActivity           0\n",
              "Country                0\n",
              "Specialization         0\n",
              "HowHeard               0\n",
              "Occupation             0\n",
              "MattersMost            0\n",
              "Search                 0\n",
              "Magazine               0\n",
              "PaperArticle           0\n",
              "EducationForum         0\n",
              "Newspaper              0\n",
              "DigitalAd              0\n",
              "Recommendation         0\n",
              "ReceiveCourseUpdate    0\n",
              "Tags                   0\n",
              "LeadQuality            0\n",
              "UpdateSupplyChain      0\n",
              "UpdateDMContent        0\n",
              "LeadProfile            0\n",
              "City                   0\n",
              "ActivityIndex          0\n",
              "ProfileIndex           0\n",
              "ActivityScore          0\n",
              "ProfileScore           0\n",
              "ChequePayment          0\n",
              "FreeCopy               0\n",
              "LastNotableActivity    0\n",
              "dtype: int64"
            ]
          },
          "metadata": {},
          "execution_count": 277
        }
      ]
    },
    {
      "cell_type": "markdown",
      "source": [
        "Now we count the percentage of missing values for each feature\n"
      ],
      "metadata": {
        "id": "JM-GS6VNoCCE"
      }
    },
    {
      "cell_type": "code",
      "source": [
        "lead_data_df.isnull().sum()"
      ],
      "metadata": {
        "colab": {
          "base_uri": "https://localhost:8080/"
        },
        "id": "KzGZFuDBmDlQ",
        "outputId": "9a5d566a-33f8-458f-9e7a-b0afcb6e8f4e"
      },
      "execution_count": 278,
      "outputs": [
        {
          "output_type": "execute_result",
          "data": {
            "text/plain": [
              "Converted              0   \n",
              "ProspectId             0   \n",
              "LeadNumber             0   \n",
              "LeadOrigin             0   \n",
              "LeadSource             36  \n",
              "DndEmail               0   \n",
              "DndCall                0   \n",
              "TotalVisits            137 \n",
              "TotalWebsiteTime       0   \n",
              "PagesPerVisit          137 \n",
              "LastActivity           103 \n",
              "Country                2461\n",
              "Specialization         3380\n",
              "HowHeard               7250\n",
              "Occupation             2690\n",
              "MattersMost            2709\n",
              "Search                 0   \n",
              "Magazine               0   \n",
              "PaperArticle           0   \n",
              "EducationForum         0   \n",
              "Newspaper              0   \n",
              "DigitalAd              0   \n",
              "Recommendation         0   \n",
              "ReceiveCourseUpdate    0   \n",
              "Tags                   3353\n",
              "LeadQuality            4767\n",
              "UpdateSupplyChain      0   \n",
              "UpdateDMContent        0   \n",
              "LeadProfile            6855\n",
              "City                   3669\n",
              "ActivityIndex          4218\n",
              "ProfileIndex           4218\n",
              "ActivityScore          4218\n",
              "ProfileScore           4218\n",
              "ChequePayment          0   \n",
              "FreeCopy               0   \n",
              "LastNotableActivity    0   \n",
              "dtype: int64"
            ]
          },
          "metadata": {},
          "execution_count": 278
        }
      ]
    },
    {
      "cell_type": "markdown",
      "source": [
        "Compute the percentage of missing values for each feature."
      ],
      "metadata": {
        "id": "bisdZXDgrrds"
      }
    },
    {
      "cell_type": "code",
      "source": [
        "\n",
        "perc_miss = round(lead_data_df.isnull().sum() * 100 / len(lead_data_df),2)\n",
        "perc_miss"
      ],
      "metadata": {
        "colab": {
          "base_uri": "https://localhost:8080/"
        },
        "id": "c3Wctbyprdm6",
        "outputId": "5d12616d-19cb-4e2d-cc1b-d5f213ae94af"
      },
      "execution_count": 279,
      "outputs": [
        {
          "output_type": "execute_result",
          "data": {
            "text/plain": [
              "Converted              0.00 \n",
              "ProspectId             0.00 \n",
              "LeadNumber             0.00 \n",
              "LeadOrigin             0.00 \n",
              "LeadSource             0.39 \n",
              "DndEmail               0.00 \n",
              "DndCall                0.00 \n",
              "TotalVisits            1.48 \n",
              "TotalWebsiteTime       0.00 \n",
              "PagesPerVisit          1.48 \n",
              "LastActivity           1.11 \n",
              "Country                26.63\n",
              "Specialization         36.58\n",
              "HowHeard               78.46\n",
              "Occupation             29.11\n",
              "MattersMost            29.32\n",
              "Search                 0.00 \n",
              "Magazine               0.00 \n",
              "PaperArticle           0.00 \n",
              "EducationForum         0.00 \n",
              "Newspaper              0.00 \n",
              "DigitalAd              0.00 \n",
              "Recommendation         0.00 \n",
              "ReceiveCourseUpdate    0.00 \n",
              "Tags                   36.29\n",
              "LeadQuality            51.59\n",
              "UpdateSupplyChain      0.00 \n",
              "UpdateDMContent        0.00 \n",
              "LeadProfile            74.19\n",
              "City                   39.71\n",
              "ActivityIndex          45.65\n",
              "ProfileIndex           45.65\n",
              "ActivityScore          45.65\n",
              "ProfileScore           45.65\n",
              "ChequePayment          0.00 \n",
              "FreeCopy               0.00 \n",
              "LastNotableActivity    0.00 \n",
              "dtype: float64"
            ]
          },
          "metadata": {},
          "execution_count": 279
        }
      ]
    },
    {
      "cell_type": "code",
      "source": [
        "print('number of columns before dropping 50% missing value columns are: {0}'.format(lead_data_df.shape[1]))\n",
        "lead_data_df = lead_data_df.drop(lead_data_df.loc[:,list(round(100*(lead_data_df.isnull().sum()/len(lead_data_df)), 2)>50)].columns, 1)\n",
        "print('number of columns after dropping 50%  missing value columns are: {0}'.format(lead_data_df.shape[1]))"
      ],
      "metadata": {
        "colab": {
          "base_uri": "https://localhost:8080/"
        },
        "id": "SkKcPy00uA81",
        "outputId": "c4c57595-a6c7-4e7e-a280-2dd4512227ae"
      },
      "execution_count": 280,
      "outputs": [
        {
          "output_type": "stream",
          "name": "stdout",
          "text": [
            "number of columns before dropping 50% missing value columns are: 37\n",
            "number of columns after dropping 50%  missing value columns are: 34\n"
          ]
        },
        {
          "output_type": "stream",
          "name": "stderr",
          "text": [
            "<ipython-input-280-63218b1a0295>:2: FutureWarning: In a future version of pandas all arguments of DataFrame.drop except for the argument 'labels' will be keyword-only.\n",
            "  lead_data_df = lead_data_df.drop(lead_data_df.loc[:,list(round(100*(lead_data_df.isnull().sum()/len(lead_data_df)), 2)>50)].columns, 1)\n"
          ]
        }
      ]
    },
    {
      "cell_type": "markdown",
      "source": [
        "Recheck the % of missing values for each feature"
      ],
      "metadata": {
        "id": "Cvyk5xv01Yf4"
      }
    },
    {
      "cell_type": "code",
      "source": [
        "perc_miss = round(lead_data_df.isnull().sum() * 100 / len(lead_data_df),2)\n",
        "perc_miss"
      ],
      "metadata": {
        "colab": {
          "base_uri": "https://localhost:8080/"
        },
        "id": "8e-JXoUf1X3b",
        "outputId": "745a82d0-9a96-46ab-8998-5d0f173b27ec"
      },
      "execution_count": 281,
      "outputs": [
        {
          "output_type": "execute_result",
          "data": {
            "text/plain": [
              "Converted              0.00 \n",
              "ProspectId             0.00 \n",
              "LeadNumber             0.00 \n",
              "LeadOrigin             0.00 \n",
              "LeadSource             0.39 \n",
              "DndEmail               0.00 \n",
              "DndCall                0.00 \n",
              "TotalVisits            1.48 \n",
              "TotalWebsiteTime       0.00 \n",
              "PagesPerVisit          1.48 \n",
              "LastActivity           1.11 \n",
              "Country                26.63\n",
              "Specialization         36.58\n",
              "Occupation             29.11\n",
              "MattersMost            29.32\n",
              "Search                 0.00 \n",
              "Magazine               0.00 \n",
              "PaperArticle           0.00 \n",
              "EducationForum         0.00 \n",
              "Newspaper              0.00 \n",
              "DigitalAd              0.00 \n",
              "Recommendation         0.00 \n",
              "ReceiveCourseUpdate    0.00 \n",
              "Tags                   36.29\n",
              "UpdateSupplyChain      0.00 \n",
              "UpdateDMContent        0.00 \n",
              "City                   39.71\n",
              "ActivityIndex          45.65\n",
              "ProfileIndex           45.65\n",
              "ActivityScore          45.65\n",
              "ProfileScore           45.65\n",
              "ChequePayment          0.00 \n",
              "FreeCopy               0.00 \n",
              "LastNotableActivity    0.00 \n",
              "dtype: float64"
            ]
          },
          "metadata": {},
          "execution_count": 281
        }
      ]
    },
    {
      "cell_type": "markdown",
      "source": [
        "LeadNumber and ProspectID have unique values for each sample. "
      ],
      "metadata": {
        "id": "S7Hu2tYX2nuI"
      }
    },
    {
      "cell_type": "code",
      "source": [
        "lead_data_df['LeadNumber'].nunique()"
      ],
      "metadata": {
        "colab": {
          "base_uri": "https://localhost:8080/"
        },
        "id": "TqgPGnGJ3CH9",
        "outputId": "31680a59-da88-4843-b79f-ac86ee1c1809"
      },
      "execution_count": 282,
      "outputs": [
        {
          "output_type": "execute_result",
          "data": {
            "text/plain": [
              "9240"
            ]
          },
          "metadata": {},
          "execution_count": 282
        }
      ]
    },
    {
      "cell_type": "code",
      "source": [
        "lead_data_df['ProspectId'].nunique()"
      ],
      "metadata": {
        "colab": {
          "base_uri": "https://localhost:8080/"
        },
        "id": "tG0eKXgR3daZ",
        "outputId": "318a847d-28b4-473b-b2a9-332c042af61c"
      },
      "execution_count": 283,
      "outputs": [
        {
          "output_type": "execute_result",
          "data": {
            "text/plain": [
              "9240"
            ]
          },
          "metadata": {},
          "execution_count": 283
        }
      ]
    },
    {
      "cell_type": "markdown",
      "source": [
        "While for instance for another feature (LeadOrigin) we have only 5 categorical values"
      ],
      "metadata": {
        "id": "-FVHJUWG3pOx"
      }
    },
    {
      "cell_type": "code",
      "source": [
        "lead_data_df['LeadOrigin'].nunique()"
      ],
      "metadata": {
        "colab": {
          "base_uri": "https://localhost:8080/"
        },
        "id": "jE3uKRxO3n3j",
        "outputId": "15f55c6e-5795-4899-f6e0-e8c977529e3d"
      },
      "execution_count": 284,
      "outputs": [
        {
          "output_type": "execute_result",
          "data": {
            "text/plain": [
              "5"
            ]
          },
          "metadata": {},
          "execution_count": 284
        }
      ]
    },
    {
      "cell_type": "markdown",
      "source": [
        "For this reason, we drop LeadNumber and ProspectId. "
      ],
      "metadata": {
        "id": "TjacumwB3ZQC"
      }
    },
    {
      "cell_type": "code",
      "source": [],
      "metadata": {
        "id": "a-_yODXy8ne4"
      },
      "execution_count": 284,
      "outputs": []
    },
    {
      "cell_type": "code",
      "source": [
        "lead_data_df.drop(['ProspectId', 'LeadNumber'], 1, inplace = True)"
      ],
      "metadata": {
        "colab": {
          "base_uri": "https://localhost:8080/"
        },
        "id": "0aWCr_Gg4NLV",
        "outputId": "e769b7c8-a8eb-4321-9af6-04ae295844f5"
      },
      "execution_count": 285,
      "outputs": [
        {
          "output_type": "stream",
          "name": "stderr",
          "text": [
            "<ipython-input-285-bf98593b3008>:1: FutureWarning: In a future version of pandas all arguments of DataFrame.drop except for the argument 'labels' will be keyword-only.\n",
            "  lead_data_df.drop(['ProspectId', 'LeadNumber'], 1, inplace = True)\n"
          ]
        }
      ]
    },
    {
      "cell_type": "markdown",
      "source": [
        "##Data Imputation"
      ],
      "metadata": {
        "id": "J-CQq4bz2XHp"
      }
    },
    {
      "cell_type": "markdown",
      "source": [
        "For each column we should fill the missing values thanks to the Impute module of sklearn. For more details, check\n",
        "https://scikit-learn.org/stable/modules/classes.html#module-sklearn.impute\n",
        "\n"
      ],
      "metadata": {
        "id": "VyEclZr16Hnp"
      }
    },
    {
      "cell_type": "markdown",
      "source": [
        "I will use the **SingleImputer** technique for each feature : it is an Univariate imputer for completing missing values with simple strategies.\n",
        "The aim is to replace missing values using a descriptive statistic (e.g. mean, median, or most frequent) along each column, or using a constant value."
      ],
      "metadata": {
        "id": "nBxuxn6T8DvO"
      }
    },
    {
      "cell_type": "markdown",
      "source": [
        "###Country"
      ],
      "metadata": {
        "id": "Svd-YZefejg9"
      }
    },
    {
      "cell_type": "code",
      "source": [
        "sns.set(rc={'figure.figsize':(8,8)})"
      ],
      "metadata": {
        "id": "V2-45CPBfR7w"
      },
      "execution_count": 286,
      "outputs": []
    },
    {
      "cell_type": "code",
      "source": [
        "lead_data_df['Country'].value_counts()"
      ],
      "metadata": {
        "colab": {
          "base_uri": "https://localhost:8080/"
        },
        "id": "kGUMnLyuc7YB",
        "outputId": "17457210-c763-45df-a154-6848e64097c9"
      },
      "execution_count": 287,
      "outputs": [
        {
          "output_type": "execute_result",
          "data": {
            "text/plain": [
              "India                   6492\n",
              "United States           69  \n",
              "United Arab Emirates    53  \n",
              "Singapore               24  \n",
              "Saudi Arabia            21  \n",
              "United Kingdom          15  \n",
              "Australia               13  \n",
              "Qatar                   10  \n",
              "Hong Kong               7   \n",
              "Bahrain                 7   \n",
              "Oman                    6   \n",
              "France                  6   \n",
              "unknown                 5   \n",
              "South Africa            4   \n",
              "Nigeria                 4   \n",
              "Germany                 4   \n",
              "Kuwait                  4   \n",
              "Canada                  4   \n",
              "Sweden                  3   \n",
              "China                   2   \n",
              "Asia/Pacific Region     2   \n",
              "Uganda                  2   \n",
              "Bangladesh              2   \n",
              "Italy                   2   \n",
              "Belgium                 2   \n",
              "Netherlands             2   \n",
              "Ghana                   2   \n",
              "Philippines             2   \n",
              "Russia                  1   \n",
              "Switzerland             1   \n",
              "Vietnam                 1   \n",
              "Denmark                 1   \n",
              "Tanzania                1   \n",
              "Liberia                 1   \n",
              "Malaysia                1   \n",
              "Kenya                   1   \n",
              "Sri Lanka               1   \n",
              "Indonesia               1   \n",
              "Name: Country, dtype: int64"
            ]
          },
          "metadata": {},
          "execution_count": 287
        }
      ]
    },
    {
      "cell_type": "code",
      "source": [
        "sns.countplot(y=lead_data_df['Country'],hue='Converted',data=lead_data_df)\n",
        "\n",
        "                "
      ],
      "metadata": {
        "colab": {
          "base_uri": "https://localhost:8080/",
          "height": 722
        },
        "id": "BK6Zctr4e-TV",
        "outputId": "9954bbb6-e1ba-4b27-b494-3168106f103a"
      },
      "execution_count": 288,
      "outputs": [
        {
          "output_type": "execute_result",
          "data": {
            "text/plain": [
              "<Axes: xlabel='count', ylabel='Country'>"
            ]
          },
          "metadata": {},
          "execution_count": 288
        },
        {
          "output_type": "display_data",
          "data": {
            "text/plain": [
              "<Figure size 800x800 with 1 Axes>"
            ],
            "image/png": "[encoded data removed]"
          },
          "metadata": {}
        }
      ]
    },
    {
      "cell_type": "markdown",
      "source": [
        "The majority comes from India: we can drop this feature because it is highly imbalanced."
      ],
      "metadata": {
        "id": "oQeU8sFik5Sw"
      }
    },
    {
      "cell_type": "code",
      "source": [
        "lead_data_df.drop(columns=['Country'],inplace=True)"
      ],
      "metadata": {
        "id": "cAUpcT_Tkzv6"
      },
      "execution_count": 289,
      "outputs": []
    },
    {
      "cell_type": "code",
      "source": [
        "len(lead_data_df.columns)"
      ],
      "metadata": {
        "colab": {
          "base_uri": "https://localhost:8080/"
        },
        "id": "zt_bS32vlK5x",
        "outputId": "53badae1-c842-46d8-8e7f-8881d8d27315"
      },
      "execution_count": 290,
      "outputs": [
        {
          "output_type": "execute_result",
          "data": {
            "text/plain": [
              "31"
            ]
          },
          "metadata": {},
          "execution_count": 290
        }
      ]
    },
    {
      "cell_type": "markdown",
      "source": [
        "###City"
      ],
      "metadata": {
        "id": "6CIU23f5mJ7h"
      }
    },
    {
      "cell_type": "code",
      "source": [
        "lead_data_df['City'].value_counts()"
      ],
      "metadata": {
        "colab": {
          "base_uri": "https://localhost:8080/"
        },
        "id": "Z0-iHUI7mOTM",
        "outputId": "c567587c-75fa-45d8-b3a9-1231bd9d1701"
      },
      "execution_count": 291,
      "outputs": [
        {
          "output_type": "execute_result",
          "data": {
            "text/plain": [
              "Mumbai                         3222\n",
              "Thane & Outskirts              752 \n",
              "Other Cities                   686 \n",
              "Other Cities of Maharashtra    457 \n",
              "Other Metro Cities             380 \n",
              "Tier II Cities                 74  \n",
              "Name: City, dtype: int64"
            ]
          },
          "metadata": {},
          "execution_count": 291
        }
      ]
    },
    {
      "cell_type": "code",
      "source": [
        "lead_data_df.City.describe()"
      ],
      "metadata": {
        "colab": {
          "base_uri": "https://localhost:8080/"
        },
        "id": "I-YbG0mNrJpA",
        "outputId": "81e94916-2da0-4389-faa4-570f3cfc212f"
      },
      "execution_count": 298,
      "outputs": [
        {
          "output_type": "execute_result",
          "data": {
            "text/plain": [
              "count     5571  \n",
              "unique    6     \n",
              "top       Mumbai\n",
              "freq      3222  \n",
              "Name: City, dtype: object"
            ]
          },
          "metadata": {},
          "execution_count": 298
        }
      ]
    },
    {
      "cell_type": "code",
      "source": [
        "sns.countplot(y=lead_data_df['City'],hue='Converted',data=lead_data_df)\n"
      ],
      "metadata": {
        "colab": {
          "base_uri": "https://localhost:8080/",
          "height": 722
        },
        "id": "-byWnvTZrtSH",
        "outputId": "82f0b10c-e796-47f5-fad7-486b277214da"
      },
      "execution_count": 305,
      "outputs": [
        {
          "output_type": "execute_result",
          "data": {
            "text/plain": [
              "<Axes: xlabel='count', ylabel='City'>"
            ]
          },
          "metadata": {},
          "execution_count": 305
        },
        {
          "output_type": "display_data",
          "data": {
            "text/plain": [
              "<Figure size 800x800 with 1 Axes>"
            ],
            "image/png": "[encoded data removed]"
          },
          "metadata": {}
        }
      ]
    },
    {
      "cell_type": "markdown",
      "source": [
        "As we can see from the plot, the majority comes from Mumbai. We can impute it for the missing values "
      ],
      "metadata": {
        "id": "AUHp2aQNtukO"
      }
    },
    {
      "cell_type": "code",
      "source": [
        "## replace null values with most frequent value\n",
        "print('Number of observations with null values in column City: {0}'.format(\n",
        "    lead_data_df['City'].isnull().sum()))\n",
        "\n",
        "# Use SimpleImputer class\n",
        "imp = SimpleImputer(missing_values=np.NaN, strategy= 'most_frequent')\n",
        "imp.fit(lead_data_df[['City']])\n",
        "\n",
        "print('Most frequent value is : {0}'.format(imp.statistics_[0]))\n",
        "\n",
        "lead_data_df['City'] = imp.transform(lead_data_df[['City']]).ravel()\n",
        "\n",
        "print('Number of  null values for the feature LeadSource after imputation: {0}'.format(\n",
        "    lead_data_df['City'].isnull().sum()))"
      ],
      "metadata": {
        "colab": {
          "base_uri": "https://localhost:8080/"
        },
        "id": "h2ET-nL2ta_V",
        "outputId": "a014caf6-8625-4dd9-a5ff-065b4aae65fa"
      },
      "execution_count": 311,
      "outputs": [
        {
          "output_type": "stream",
          "name": "stdout",
          "text": [
            "Number of observations with null values in column City: 3669\n",
            "Most frequent value is : Mumbai\n",
            "Number of  null values for the feature LeadSource after imputation: 0\n"
          ]
        }
      ]
    },
    {
      "cell_type": "code",
      "source": [
        "#Now recheck\n",
        "sns.countplot(y=lead_data_df['City'],hue='Converted',data=lead_data_df)\n"
      ],
      "metadata": {
        "id": "LBW1ag68wces"
      },
      "execution_count": null,
      "outputs": []
    },
    {
      "cell_type": "code",
      "source": [
        "lead_data_df['City'].value_counts()"
      ],
      "metadata": {
        "colab": {
          "base_uri": "https://localhost:8080/"
        },
        "id": "kvRfrAgKw8LT",
        "outputId": "51c5d62d-7fcf-41e6-e27d-2039d929feaa"
      },
      "execution_count": 313,
      "outputs": [
        {
          "output_type": "execute_result",
          "data": {
            "text/plain": [
              "Mumbai                         6891\n",
              "Thane & Outskirts              752 \n",
              "Other Cities                   686 \n",
              "Other Cities of Maharashtra    457 \n",
              "Other Metro Cities             380 \n",
              "Tier II Cities                 74  \n",
              "Name: City, dtype: int64"
            ]
          },
          "metadata": {},
          "execution_count": 313
        }
      ]
    }
  ]
}